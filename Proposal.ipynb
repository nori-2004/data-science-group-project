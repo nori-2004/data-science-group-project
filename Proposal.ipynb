{
 "cells": [
  {
   "cell_type": "markdown",
   "id": "83ef82a7-6936-45e3-8ab6-11be76153c8c",
   "metadata": {},
   "source": [
    "Determining Genre of Top 2023 Songs using Musical Characteristics\n",
    "\n",
    "Our goal is to identify the genre of a given song based on its characteristics. Spotify is a popular streaming service for music with over 500 million users. The dataset we chose provides the most streamed spotify songs of 2023 with relevant information about each song. The data set is \"Most Streamed Spotify Songs 2023\" which has over 900 songs as observations. Each song has a track name, artist name, artist count, released year, released month, released day, number of playlists it appears in (Spotify, Apple Music and Deezer), ranking on the top charts (Spotify, Apple Music, Deezer, Shazam), number of streams, beats per minute, key of the song, mode, danceability, valence, energy, acousticness, instrumentalness, liveness and speechiness. For the sake of our question we will only be using six characteristics of the song to determine it’s genre: bpm, key, danceability, energy, acousticness, and speechiness. We have determined that these are the most pertinent vectors to examine in order to determine its genre based solely on the sound characteristics. Each genre has certain sounds which we will use to hopefully group it successfully to its genre. "
   ]
  },
  {
   "cell_type": "code",
   "execution_count": 2,
   "id": "362a73b4-a73f-4109-b0bd-181ab2ed87dd",
   "metadata": {
    "tags": []
   },
   "outputs": [
    {
     "name": "stderr",
     "output_type": "stream",
     "text": [
      "── \u001b[1mAttaching packages\u001b[22m ─────────────────────────────────────── tidyverse 1.3.2 ──\n",
      "\u001b[32m✔\u001b[39m \u001b[34mggplot2\u001b[39m 3.4.2     \u001b[32m✔\u001b[39m \u001b[34mpurrr  \u001b[39m 1.0.1\n",
      "\u001b[32m✔\u001b[39m \u001b[34mtibble \u001b[39m 3.2.1     \u001b[32m✔\u001b[39m \u001b[34mdplyr  \u001b[39m 1.1.1\n",
      "\u001b[32m✔\u001b[39m \u001b[34mtidyr  \u001b[39m 1.3.0     \u001b[32m✔\u001b[39m \u001b[34mstringr\u001b[39m 1.5.0\n",
      "\u001b[32m✔\u001b[39m \u001b[34mreadr  \u001b[39m 2.1.3     \u001b[32m✔\u001b[39m \u001b[34mforcats\u001b[39m 0.5.2\n",
      "── \u001b[1mConflicts\u001b[22m ────────────────────────────────────────── tidyverse_conflicts() ──\n",
      "\u001b[31m✖\u001b[39m \u001b[34mdplyr\u001b[39m::\u001b[32mfilter()\u001b[39m masks \u001b[34mstats\u001b[39m::filter()\n",
      "\u001b[31m✖\u001b[39m \u001b[34mdplyr\u001b[39m::\u001b[32mlag()\u001b[39m    masks \u001b[34mstats\u001b[39m::lag()\n",
      "── \u001b[1mAttaching packages\u001b[22m ────────────────────────────────────── tidymodels 1.0.0 ──\n",
      "\n",
      "\u001b[32m✔\u001b[39m \u001b[34mbroom       \u001b[39m 1.0.2     \u001b[32m✔\u001b[39m \u001b[34mrsample     \u001b[39m 1.1.1\n",
      "\u001b[32m✔\u001b[39m \u001b[34mdials       \u001b[39m 1.1.0     \u001b[32m✔\u001b[39m \u001b[34mtune        \u001b[39m 1.0.1\n",
      "\u001b[32m✔\u001b[39m \u001b[34minfer       \u001b[39m 1.0.4     \u001b[32m✔\u001b[39m \u001b[34mworkflows   \u001b[39m 1.1.2\n",
      "\u001b[32m✔\u001b[39m \u001b[34mmodeldata   \u001b[39m 1.0.1     \u001b[32m✔\u001b[39m \u001b[34mworkflowsets\u001b[39m 1.0.0\n",
      "\u001b[32m✔\u001b[39m \u001b[34mparsnip     \u001b[39m 1.0.3     \u001b[32m✔\u001b[39m \u001b[34myardstick   \u001b[39m 1.1.0\n",
      "\u001b[32m✔\u001b[39m \u001b[34mrecipes     \u001b[39m 1.0.4     \n",
      "\n",
      "── \u001b[1mConflicts\u001b[22m ───────────────────────────────────────── tidymodels_conflicts() ──\n",
      "\u001b[31m✖\u001b[39m \u001b[34mscales\u001b[39m::\u001b[32mdiscard()\u001b[39m masks \u001b[34mpurrr\u001b[39m::discard()\n",
      "\u001b[31m✖\u001b[39m \u001b[34mdplyr\u001b[39m::\u001b[32mfilter()\u001b[39m   masks \u001b[34mstats\u001b[39m::filter()\n",
      "\u001b[31m✖\u001b[39m \u001b[34mrecipes\u001b[39m::\u001b[32mfixed()\u001b[39m  masks \u001b[34mstringr\u001b[39m::fixed()\n",
      "\u001b[31m✖\u001b[39m \u001b[34mdplyr\u001b[39m::\u001b[32mlag()\u001b[39m      masks \u001b[34mstats\u001b[39m::lag()\n",
      "\u001b[31m✖\u001b[39m \u001b[34myardstick\u001b[39m::\u001b[32mspec()\u001b[39m masks \u001b[34mreadr\u001b[39m::spec()\n",
      "\u001b[31m✖\u001b[39m \u001b[34mrecipes\u001b[39m::\u001b[32mstep()\u001b[39m   masks \u001b[34mstats\u001b[39m::step()\n",
      "\u001b[34m•\u001b[39m Use \u001b[32mtidymodels_prefer()\u001b[39m to resolve common conflicts.\n",
      "\n",
      "Warning message in file(filename, \"r\", encoding = encoding):\n",
      "“cannot open file 'tests.R': No such file or directory”\n"
     ]
    },
    {
     "ename": "ERROR",
     "evalue": "Error in file(filename, \"r\", encoding = encoding): cannot open the connection\n",
     "output_type": "error",
     "traceback": [
      "Error in file(filename, \"r\", encoding = encoding): cannot open the connection\nTraceback:\n",
      "1. source(\"tests.R\")",
      "2. file(filename, \"r\", encoding = encoding)"
     ]
    }
   ],
   "source": [
    "library(tidyverse)\n",
    "library(repr)\n",
    "library(tidymodels)\n",
    "options(repr.matrix.max.rows = 6)\n",
    "source('tests.R')\n",
    "source(\"cleanup.R\")\n"
   ]
  },
  {
   "cell_type": "code",
   "execution_count": 27,
   "id": "30a571e1-9045-4886-ab2d-272424f9c554",
   "metadata": {
    "tags": []
   },
   "outputs": [],
   "source": [
    "#url <- \"https://raw.githubusercontent.com/nori-2004/data-science-group-project/main/spotify-2023.csv\"\n",
    "#spotify <- read_csv(url)\n",
    "#spotify_selected <- select(spotify, track_name, bpm, key, streams, `danceability_%`, `energy_%`, `acousticness_%`, `speechiness_%`)\n",
    "#spotify_selected"
   ]
  },
  {
   "cell_type": "code",
   "execution_count": 28,
   "id": "6b5d0ab0-d780-4821-ac41-0157de5b0aa7",
   "metadata": {
    "tags": []
   },
   "outputs": [],
   "source": [
    "#spotify_split <- initial_split(spotify_selected, prop = 0.75)\n",
    "#spotify_train <- training(spotify_split)   \n",
    "#spotify_test <- testing(spotify_split)"
   ]
  },
  {
   "cell_type": "code",
   "execution_count": null,
   "id": "d596a0a4-b59c-483f-aa13-0838f1a11fbc",
   "metadata": {},
   "outputs": [],
   "source": []
  }
 ],
 "metadata": {
  "kernelspec": {
   "display_name": "R",
   "language": "R",
   "name": "ir"
  },
  "language_info": {
   "codemirror_mode": "r",
   "file_extension": ".r",
   "mimetype": "text/x-r-source",
   "name": "R",
   "pygments_lexer": "r",
   "version": "4.2.2"
  }
 },
 "nbformat": 4,
 "nbformat_minor": 5
}
