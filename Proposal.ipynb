{
 "cells": [
  {
   "cell_type": "markdown",
   "id": "83ef82a7-6936-45e3-8ab6-11be76153c8c",
   "metadata": {},
   "source": [
    "Determining Water Potability\n",
    "\n",
    "Water potability is critical for supporting populations, various industries and agricultural activities that rely on clean water for survival. Clean and drinkable water can be determined by careful analysis of certain characteristics of a sample. Using classification we hope to train a data set to be able to classify water as safe or not based on its characteristics. The question we will be asking is is this water sample potable based on the different levels and characteristics of it?\n",
    "The data set we will be using is ‘Water Quality and Potability’. Each observation has a pH value, total solids dissolved, chloramines count, sulfate count, conductivity, organic carbon level, trihalomethanes, turbidity and potability. For the sake of our project we have decided to utilize all of the vectors this data set provides except for conductivity. With these values we hope to train a classification system that can provide accurate results on potability. \n"
   ]
  },
  {
   "cell_type": "code",
   "execution_count": 1,
   "id": "362a73b4-a73f-4109-b0bd-181ab2ed87dd",
   "metadata": {
    "tags": []
   },
   "outputs": [
    {
     "name": "stderr",
     "output_type": "stream",
     "text": [
      "── \u001b[1mAttaching packages\u001b[22m ─────────────────────────────────────── tidyverse 1.3.2 ──\n",
      "\u001b[32m✔\u001b[39m \u001b[34mggplot2\u001b[39m 3.4.2     \u001b[32m✔\u001b[39m \u001b[34mpurrr  \u001b[39m 1.0.1\n",
      "\u001b[32m✔\u001b[39m \u001b[34mtibble \u001b[39m 3.2.1     \u001b[32m✔\u001b[39m \u001b[34mdplyr  \u001b[39m 1.1.1\n",
      "\u001b[32m✔\u001b[39m \u001b[34mtidyr  \u001b[39m 1.3.0     \u001b[32m✔\u001b[39m \u001b[34mstringr\u001b[39m 1.5.0\n",
      "\u001b[32m✔\u001b[39m \u001b[34mreadr  \u001b[39m 2.1.3     \u001b[32m✔\u001b[39m \u001b[34mforcats\u001b[39m 0.5.2\n",
      "── \u001b[1mConflicts\u001b[22m ────────────────────────────────────────── tidyverse_conflicts() ──\n",
      "\u001b[31m✖\u001b[39m \u001b[34mdplyr\u001b[39m::\u001b[32mfilter()\u001b[39m masks \u001b[34mstats\u001b[39m::filter()\n",
      "\u001b[31m✖\u001b[39m \u001b[34mdplyr\u001b[39m::\u001b[32mlag()\u001b[39m    masks \u001b[34mstats\u001b[39m::lag()\n",
      "── \u001b[1mAttaching packages\u001b[22m ────────────────────────────────────── tidymodels 1.0.0 ──\n",
      "\n",
      "\u001b[32m✔\u001b[39m \u001b[34mbroom       \u001b[39m 1.0.2     \u001b[32m✔\u001b[39m \u001b[34mrsample     \u001b[39m 1.1.1\n",
      "\u001b[32m✔\u001b[39m \u001b[34mdials       \u001b[39m 1.1.0     \u001b[32m✔\u001b[39m \u001b[34mtune        \u001b[39m 1.0.1\n",
      "\u001b[32m✔\u001b[39m \u001b[34minfer       \u001b[39m 1.0.4     \u001b[32m✔\u001b[39m \u001b[34mworkflows   \u001b[39m 1.1.2\n",
      "\u001b[32m✔\u001b[39m \u001b[34mmodeldata   \u001b[39m 1.0.1     \u001b[32m✔\u001b[39m \u001b[34mworkflowsets\u001b[39m 1.0.0\n",
      "\u001b[32m✔\u001b[39m \u001b[34mparsnip     \u001b[39m 1.0.3     \u001b[32m✔\u001b[39m \u001b[34myardstick   \u001b[39m 1.1.0\n",
      "\u001b[32m✔\u001b[39m \u001b[34mrecipes     \u001b[39m 1.0.4     \n",
      "\n",
      "── \u001b[1mConflicts\u001b[22m ───────────────────────────────────────── tidymodels_conflicts() ──\n",
      "\u001b[31m✖\u001b[39m \u001b[34mscales\u001b[39m::\u001b[32mdiscard()\u001b[39m masks \u001b[34mpurrr\u001b[39m::discard()\n",
      "\u001b[31m✖\u001b[39m \u001b[34mdplyr\u001b[39m::\u001b[32mfilter()\u001b[39m   masks \u001b[34mstats\u001b[39m::filter()\n",
      "\u001b[31m✖\u001b[39m \u001b[34mrecipes\u001b[39m::\u001b[32mfixed()\u001b[39m  masks \u001b[34mstringr\u001b[39m::fixed()\n",
      "\u001b[31m✖\u001b[39m \u001b[34mdplyr\u001b[39m::\u001b[32mlag()\u001b[39m      masks \u001b[34mstats\u001b[39m::lag()\n",
      "\u001b[31m✖\u001b[39m \u001b[34myardstick\u001b[39m::\u001b[32mspec()\u001b[39m masks \u001b[34mreadr\u001b[39m::spec()\n",
      "\u001b[31m✖\u001b[39m \u001b[34mrecipes\u001b[39m::\u001b[32mstep()\u001b[39m   masks \u001b[34mstats\u001b[39m::step()\n",
      "\u001b[34m•\u001b[39m Dig deeper into tidy modeling with R at \u001b[32mhttps://www.tmwr.org\u001b[39m\n",
      "\n",
      "Warning message in file(filename, \"r\", encoding = encoding):\n",
      "“cannot open file 'tests.R': No such file or directory”\n"
     ]
    },
    {
     "ename": "ERROR",
     "evalue": "Error in file(filename, \"r\", encoding = encoding): cannot open the connection\n",
     "output_type": "error",
     "traceback": [
      "Error in file(filename, \"r\", encoding = encoding): cannot open the connection\nTraceback:\n",
      "1. source(\"tests.R\")",
      "2. file(filename, \"r\", encoding = encoding)"
     ]
    }
   ],
   "source": [
    "library(tidyverse)\n",
    "library(repr)\n",
    "library(tidymodels)\n",
    "options(repr.matrix.max.rows = 6)\n",
    "source('tests.R')\n",
    "source(\"cleanup.R\")\n"
   ]
  },
  {
   "cell_type": "code",
   "execution_count": 13,
   "id": "30a571e1-9045-4886-ab2d-272424f9c554",
   "metadata": {
    "tags": []
   },
   "outputs": [
    {
     "name": "stderr",
     "output_type": "stream",
     "text": [
      "\u001b[1mRows: \u001b[22m\u001b[34m3276\u001b[39m \u001b[1mColumns: \u001b[22m\u001b[34m10\u001b[39m\n",
      "\u001b[36m──\u001b[39m \u001b[1mColumn specification\u001b[22m \u001b[36m────────────────────────────────────────────────────────\u001b[39m\n",
      "\u001b[1mDelimiter:\u001b[22m \",\"\n",
      "\u001b[32mdbl\u001b[39m (10): ph, Hardness, Solids, Chloramines, Sulfate, Conductivity, Organic_...\n",
      "\n",
      "\u001b[36mℹ\u001b[39m Use `spec()` to retrieve the full column specification for this data.\n",
      "\u001b[36mℹ\u001b[39m Specify the column types or set `show_col_types = FALSE` to quiet this message.\n"
     ]
    },
    {
     "data": {
      "text/html": [
       "<table class=\"dataframe\">\n",
       "<caption>A tibble: 3276 × 9</caption>\n",
       "<thead>\n",
       "\t<tr><th scope=col>ph</th><th scope=col>Hardness</th><th scope=col>Solids</th><th scope=col>Chloramines</th><th scope=col>Sulfate</th><th scope=col>Organic_carbon</th><th scope=col>Trihalomethanes</th><th scope=col>Turbidity</th><th scope=col>Potability</th></tr>\n",
       "\t<tr><th scope=col>&lt;dbl&gt;</th><th scope=col>&lt;dbl&gt;</th><th scope=col>&lt;dbl&gt;</th><th scope=col>&lt;dbl&gt;</th><th scope=col>&lt;dbl&gt;</th><th scope=col>&lt;dbl&gt;</th><th scope=col>&lt;dbl&gt;</th><th scope=col>&lt;dbl&gt;</th><th scope=col>&lt;dbl&gt;</th></tr>\n",
       "</thead>\n",
       "<tbody>\n",
       "\t<tr><td>      NA</td><td>204.8905</td><td>20791.32</td><td>7.300212</td><td>368.5164</td><td>10.37978</td><td>86.99097</td><td>2.963135</td><td>0</td></tr>\n",
       "\t<tr><td>3.716080</td><td>129.4229</td><td>18630.06</td><td>6.635246</td><td>      NA</td><td>15.18001</td><td>56.32908</td><td>4.500656</td><td>0</td></tr>\n",
       "\t<tr><td>8.099124</td><td>224.2363</td><td>19909.54</td><td>9.275884</td><td>      NA</td><td>16.86864</td><td>66.42009</td><td>3.055934</td><td>0</td></tr>\n",
       "\t<tr><td>⋮</td><td>⋮</td><td>⋮</td><td>⋮</td><td>⋮</td><td>⋮</td><td>⋮</td><td>⋮</td><td>⋮</td></tr>\n",
       "\t<tr><td>9.419510</td><td>175.7626</td><td>33155.58</td><td>7.350233</td><td>NA</td><td>11.03907</td><td>69.84540</td><td>3.298875</td><td>1</td></tr>\n",
       "\t<tr><td>5.126763</td><td>230.6038</td><td>11983.87</td><td>6.303357</td><td>NA</td><td>11.16895</td><td>77.48821</td><td>4.708658</td><td>1</td></tr>\n",
       "\t<tr><td>7.874671</td><td>195.1023</td><td>17404.18</td><td>7.509306</td><td>NA</td><td>16.14037</td><td>78.69845</td><td>2.309149</td><td>1</td></tr>\n",
       "</tbody>\n",
       "</table>\n"
      ],
      "text/latex": [
       "A tibble: 3276 × 9\n",
       "\\begin{tabular}{lllllllll}\n",
       " ph & Hardness & Solids & Chloramines & Sulfate & Organic\\_carbon & Trihalomethanes & Turbidity & Potability\\\\\n",
       " <dbl> & <dbl> & <dbl> & <dbl> & <dbl> & <dbl> & <dbl> & <dbl> & <dbl>\\\\\n",
       "\\hline\n",
       "\t       NA & 204.8905 & 20791.32 & 7.300212 & 368.5164 & 10.37978 & 86.99097 & 2.963135 & 0\\\\\n",
       "\t 3.716080 & 129.4229 & 18630.06 & 6.635246 &       NA & 15.18001 & 56.32908 & 4.500656 & 0\\\\\n",
       "\t 8.099124 & 224.2363 & 19909.54 & 9.275884 &       NA & 16.86864 & 66.42009 & 3.055934 & 0\\\\\n",
       "\t ⋮ & ⋮ & ⋮ & ⋮ & ⋮ & ⋮ & ⋮ & ⋮ & ⋮\\\\\n",
       "\t 9.419510 & 175.7626 & 33155.58 & 7.350233 & NA & 11.03907 & 69.84540 & 3.298875 & 1\\\\\n",
       "\t 5.126763 & 230.6038 & 11983.87 & 6.303357 & NA & 11.16895 & 77.48821 & 4.708658 & 1\\\\\n",
       "\t 7.874671 & 195.1023 & 17404.18 & 7.509306 & NA & 16.14037 & 78.69845 & 2.309149 & 1\\\\\n",
       "\\end{tabular}\n"
      ],
      "text/markdown": [
       "\n",
       "A tibble: 3276 × 9\n",
       "\n",
       "| ph &lt;dbl&gt; | Hardness &lt;dbl&gt; | Solids &lt;dbl&gt; | Chloramines &lt;dbl&gt; | Sulfate &lt;dbl&gt; | Organic_carbon &lt;dbl&gt; | Trihalomethanes &lt;dbl&gt; | Turbidity &lt;dbl&gt; | Potability &lt;dbl&gt; |\n",
       "|---|---|---|---|---|---|---|---|---|\n",
       "|       NA | 204.8905 | 20791.32 | 7.300212 | 368.5164 | 10.37978 | 86.99097 | 2.963135 | 0 |\n",
       "| 3.716080 | 129.4229 | 18630.06 | 6.635246 |       NA | 15.18001 | 56.32908 | 4.500656 | 0 |\n",
       "| 8.099124 | 224.2363 | 19909.54 | 9.275884 |       NA | 16.86864 | 66.42009 | 3.055934 | 0 |\n",
       "| ⋮ | ⋮ | ⋮ | ⋮ | ⋮ | ⋮ | ⋮ | ⋮ | ⋮ |\n",
       "| 9.419510 | 175.7626 | 33155.58 | 7.350233 | NA | 11.03907 | 69.84540 | 3.298875 | 1 |\n",
       "| 5.126763 | 230.6038 | 11983.87 | 6.303357 | NA | 11.16895 | 77.48821 | 4.708658 | 1 |\n",
       "| 7.874671 | 195.1023 | 17404.18 | 7.509306 | NA | 16.14037 | 78.69845 | 2.309149 | 1 |\n",
       "\n"
      ],
      "text/plain": [
       "     ph       Hardness Solids   Chloramines Sulfate  Organic_carbon\n",
       "1          NA 204.8905 20791.32 7.300212    368.5164 10.37978      \n",
       "2    3.716080 129.4229 18630.06 6.635246          NA 15.18001      \n",
       "3    8.099124 224.2363 19909.54 9.275884          NA 16.86864      \n",
       "⋮    ⋮        ⋮        ⋮        ⋮           ⋮        ⋮             \n",
       "3274 9.419510 175.7626 33155.58 7.350233    NA       11.03907      \n",
       "3275 5.126763 230.6038 11983.87 6.303357    NA       11.16895      \n",
       "3276 7.874671 195.1023 17404.18 7.509306    NA       16.14037      \n",
       "     Trihalomethanes Turbidity Potability\n",
       "1    86.99097        2.963135  0         \n",
       "2    56.32908        4.500656  0         \n",
       "3    66.42009        3.055934  0         \n",
       "⋮    ⋮               ⋮         ⋮         \n",
       "3274 69.84540        3.298875  1         \n",
       "3275 77.48821        4.708658  1         \n",
       "3276 78.69845        2.309149  1         "
      ]
     },
     "metadata": {},
     "output_type": "display_data"
    }
   ],
   "source": [
    "url <- \"https://raw.githubusercontent.com/nori-2004/data-science-group-project/main/water_potability.csv\"\n",
    "water <- read_csv(url)\n",
    "water_selected <- select(water, - Conductivity)\n",
    "water_selected"
   ]
  },
  {
   "cell_type": "code",
   "execution_count": 15,
   "id": "6b5d0ab0-d780-4821-ac41-0157de5b0aa7",
   "metadata": {
    "tags": []
   },
   "outputs": [
    {
     "data": {
      "text/html": [
       "<table class=\"dataframe\">\n",
       "<caption>A tibble: 2457 × 9</caption>\n",
       "<thead>\n",
       "\t<tr><th scope=col>ph</th><th scope=col>Hardness</th><th scope=col>Solids</th><th scope=col>Chloramines</th><th scope=col>Sulfate</th><th scope=col>Organic_carbon</th><th scope=col>Trihalomethanes</th><th scope=col>Turbidity</th><th scope=col>Potability</th></tr>\n",
       "\t<tr><th scope=col>&lt;dbl&gt;</th><th scope=col>&lt;dbl&gt;</th><th scope=col>&lt;dbl&gt;</th><th scope=col>&lt;dbl&gt;</th><th scope=col>&lt;dbl&gt;</th><th scope=col>&lt;dbl&gt;</th><th scope=col>&lt;dbl&gt;</th><th scope=col>&lt;dbl&gt;</th><th scope=col>&lt;dbl&gt;</th></tr>\n",
       "</thead>\n",
       "<tbody>\n",
       "\t<tr><td>7.657542</td><td>230.8200</td><td>35056.23</td><td>7.656807</td><td>364.1301</td><td>18.48140</td><td>72.20507</td><td>4.792527</td><td>1</td></tr>\n",
       "\t<tr><td>6.571099</td><td>207.7410</td><td>23372.88</td><td>6.280195</td><td>313.8470</td><td>12.87480</td><td>75.41671</td><td>4.555949</td><td>0</td></tr>\n",
       "\t<tr><td>7.795958</td><td>239.2783</td><td>27849.14</td><td>6.475994</td><td>356.1707</td><td>18.69225</td><td>50.12842</td><td>4.251876</td><td>1</td></tr>\n",
       "\t<tr><td>⋮</td><td>⋮</td><td>⋮</td><td>⋮</td><td>⋮</td><td>⋮</td><td>⋮</td><td>⋮</td><td>⋮</td></tr>\n",
       "\t<tr><td>7.858663</td><td>210.9548</td><td>26703.85</td><td>6.509065</td><td>341.3419</td><td> 8.811986</td><td>72.79980</td><td>3.422471</td><td>0</td></tr>\n",
       "\t<tr><td>      NA</td><td>134.6793</td><td>30211.83</td><td>4.792361</td><td>234.2856</td><td>18.999154</td><td>      NA</td><td>3.840889</td><td>1</td></tr>\n",
       "\t<tr><td>7.139671</td><td>183.4280</td><td>16916.41</td><td>6.539416</td><td>      NA</td><td>10.144443</td><td>42.31547</td><td>3.151389</td><td>0</td></tr>\n",
       "</tbody>\n",
       "</table>\n"
      ],
      "text/latex": [
       "A tibble: 2457 × 9\n",
       "\\begin{tabular}{lllllllll}\n",
       " ph & Hardness & Solids & Chloramines & Sulfate & Organic\\_carbon & Trihalomethanes & Turbidity & Potability\\\\\n",
       " <dbl> & <dbl> & <dbl> & <dbl> & <dbl> & <dbl> & <dbl> & <dbl> & <dbl>\\\\\n",
       "\\hline\n",
       "\t 7.657542 & 230.8200 & 35056.23 & 7.656807 & 364.1301 & 18.48140 & 72.20507 & 4.792527 & 1\\\\\n",
       "\t 6.571099 & 207.7410 & 23372.88 & 6.280195 & 313.8470 & 12.87480 & 75.41671 & 4.555949 & 0\\\\\n",
       "\t 7.795958 & 239.2783 & 27849.14 & 6.475994 & 356.1707 & 18.69225 & 50.12842 & 4.251876 & 1\\\\\n",
       "\t ⋮ & ⋮ & ⋮ & ⋮ & ⋮ & ⋮ & ⋮ & ⋮ & ⋮\\\\\n",
       "\t 7.858663 & 210.9548 & 26703.85 & 6.509065 & 341.3419 &  8.811986 & 72.79980 & 3.422471 & 0\\\\\n",
       "\t       NA & 134.6793 & 30211.83 & 4.792361 & 234.2856 & 18.999154 &       NA & 3.840889 & 1\\\\\n",
       "\t 7.139671 & 183.4280 & 16916.41 & 6.539416 &       NA & 10.144443 & 42.31547 & 3.151389 & 0\\\\\n",
       "\\end{tabular}\n"
      ],
      "text/markdown": [
       "\n",
       "A tibble: 2457 × 9\n",
       "\n",
       "| ph &lt;dbl&gt; | Hardness &lt;dbl&gt; | Solids &lt;dbl&gt; | Chloramines &lt;dbl&gt; | Sulfate &lt;dbl&gt; | Organic_carbon &lt;dbl&gt; | Trihalomethanes &lt;dbl&gt; | Turbidity &lt;dbl&gt; | Potability &lt;dbl&gt; |\n",
       "|---|---|---|---|---|---|---|---|---|\n",
       "| 7.657542 | 230.8200 | 35056.23 | 7.656807 | 364.1301 | 18.48140 | 72.20507 | 4.792527 | 1 |\n",
       "| 6.571099 | 207.7410 | 23372.88 | 6.280195 | 313.8470 | 12.87480 | 75.41671 | 4.555949 | 0 |\n",
       "| 7.795958 | 239.2783 | 27849.14 | 6.475994 | 356.1707 | 18.69225 | 50.12842 | 4.251876 | 1 |\n",
       "| ⋮ | ⋮ | ⋮ | ⋮ | ⋮ | ⋮ | ⋮ | ⋮ | ⋮ |\n",
       "| 7.858663 | 210.9548 | 26703.85 | 6.509065 | 341.3419 |  8.811986 | 72.79980 | 3.422471 | 0 |\n",
       "|       NA | 134.6793 | 30211.83 | 4.792361 | 234.2856 | 18.999154 |       NA | 3.840889 | 1 |\n",
       "| 7.139671 | 183.4280 | 16916.41 | 6.539416 |       NA | 10.144443 | 42.31547 | 3.151389 | 0 |\n",
       "\n"
      ],
      "text/plain": [
       "     ph       Hardness Solids   Chloramines Sulfate  Organic_carbon\n",
       "1    7.657542 230.8200 35056.23 7.656807    364.1301 18.48140      \n",
       "2    6.571099 207.7410 23372.88 6.280195    313.8470 12.87480      \n",
       "3    7.795958 239.2783 27849.14 6.475994    356.1707 18.69225      \n",
       "⋮    ⋮        ⋮        ⋮        ⋮           ⋮        ⋮             \n",
       "2455 7.858663 210.9548 26703.85 6.509065    341.3419  8.811986     \n",
       "2456       NA 134.6793 30211.83 4.792361    234.2856 18.999154     \n",
       "2457 7.139671 183.4280 16916.41 6.539416          NA 10.144443     \n",
       "     Trihalomethanes Turbidity Potability\n",
       "1    72.20507        4.792527  1         \n",
       "2    75.41671        4.555949  0         \n",
       "3    50.12842        4.251876  1         \n",
       "⋮    ⋮               ⋮         ⋮         \n",
       "2455 72.79980        3.422471  0         \n",
       "2456       NA        3.840889  1         \n",
       "2457 42.31547        3.151389  0         "
      ]
     },
     "metadata": {},
     "output_type": "display_data"
    }
   ],
   "source": [
    "water_split <- initial_split(water_selected, prop = 0.75)\n",
    "water_train <- training(water_split)   \n",
    "water_test <- testing(water_split)\n",
    "water_train"
   ]
  },
  {
   "cell_type": "code",
   "execution_count": null,
   "id": "d596a0a4-b59c-483f-aa13-0838f1a11fbc",
   "metadata": {},
   "outputs": [],
   "source": []
  }
 ],
 "metadata": {
  "kernelspec": {
   "display_name": "R",
   "language": "R",
   "name": "ir"
  },
  "language_info": {
   "codemirror_mode": "r",
   "file_extension": ".r",
   "mimetype": "text/x-r-source",
   "name": "R",
   "pygments_lexer": "r",
   "version": "4.2.2"
  }
 },
 "nbformat": 4,
 "nbformat_minor": 5
}
