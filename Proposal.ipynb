{
 "cells": [
  {
   "cell_type": "markdown",
   "id": "83ef82a7-6936-45e3-8ab6-11be76153c8c",
   "metadata": {},
   "source": [
    "# Determining Water Potability\n",
    "\n",
    "**Introduction**\n",
    "\n",
    "Water potability is critical for supporting populations, various industries and agricultural activities that rely on clean water for survival. Clean and drinkable water can be determined by careful analysis of certain characteristics of a sample. Using classification we hope to train a data set to be able to classify water as safe or not based on its characteristics. The question we will be asking is: Is this water sample potable based on the different levels and characteristics of it?\n",
    "The data set we will be using is ‘Water Quality and Potability’. Each observation has a pH value, total solids dissolved, chloramines count, sulfate count, conductivity, organic carbon level, trihalomethanes, turbidity and potability. For the sake of our project we have decided to utilize all of the vectors this data set provides except for conductivity. With these values we hope to train a classification system that can provide accurate results on potability. \n"
   ]
  },
  {
   "cell_type": "markdown",
   "id": "f582e153-e1cb-4761-bc37-d4dce4d9274c",
   "metadata": {
    "tags": []
   },
   "source": [
    "**The Dataset**"
   ]
  },
  {
   "cell_type": "code",
   "execution_count": 3,
   "id": "362a73b4-a73f-4109-b0bd-181ab2ed87dd",
   "metadata": {
    "tags": []
   },
   "outputs": [
    {
     "name": "stderr",
     "output_type": "stream",
     "text": [
      "Warning message in file(filename, \"r\", encoding = encoding):\n",
      "“cannot open file 'tests.R': No such file or directory”\n"
     ]
    },
    {
     "ename": "ERROR",
     "evalue": "Error in file(filename, \"r\", encoding = encoding): cannot open the connection\n",
     "output_type": "error",
     "traceback": [
      "Error in file(filename, \"r\", encoding = encoding): cannot open the connection\nTraceback:\n",
      "1. source(\"tests.R\")",
      "2. file(filename, \"r\", encoding = encoding)"
     ]
    }
   ],
   "source": [
    "library(tidyverse)\n",
    "library(repr)\n",
    "library(tidymodels)\n",
    "options(repr.matrix.max.rows = 6)\n",
    "source('tests.R')\n",
    "source(\"cleanup.R\")\n"
   ]
  },
  {
   "cell_type": "code",
   "execution_count": 4,
   "id": "30a571e1-9045-4886-ab2d-272424f9c554",
   "metadata": {
    "tags": []
   },
   "outputs": [
    {
     "name": "stderr",
     "output_type": "stream",
     "text": [
      "\u001b[1mRows: \u001b[22m\u001b[34m3276\u001b[39m \u001b[1mColumns: \u001b[22m\u001b[34m10\u001b[39m\n",
      "\u001b[36m──\u001b[39m \u001b[1mColumn specification\u001b[22m \u001b[36m────────────────────────────────────────────────────────\u001b[39m\n",
      "\u001b[1mDelimiter:\u001b[22m \",\"\n",
      "\u001b[32mdbl\u001b[39m (10): ph, Hardness, Solids, Chloramines, Sulfate, Conductivity, Organic_...\n",
      "\n",
      "\u001b[36mℹ\u001b[39m Use `spec()` to retrieve the full column specification for this data.\n",
      "\u001b[36mℹ\u001b[39m Specify the column types or set `show_col_types = FALSE` to quiet this message.\n"
     ]
    },
    {
     "data": {
      "text/html": [
       "<table class=\"dataframe\">\n",
       "<caption>A tibble: 3276 × 9</caption>\n",
       "<thead>\n",
       "\t<tr><th scope=col>ph</th><th scope=col>Hardness</th><th scope=col>Solids</th><th scope=col>Chloramines</th><th scope=col>Sulfate</th><th scope=col>Organic_carbon</th><th scope=col>Trihalomethanes</th><th scope=col>Turbidity</th><th scope=col>Potability</th></tr>\n",
       "\t<tr><th scope=col>&lt;dbl&gt;</th><th scope=col>&lt;dbl&gt;</th><th scope=col>&lt;dbl&gt;</th><th scope=col>&lt;dbl&gt;</th><th scope=col>&lt;dbl&gt;</th><th scope=col>&lt;dbl&gt;</th><th scope=col>&lt;dbl&gt;</th><th scope=col>&lt;dbl&gt;</th><th scope=col>&lt;dbl&gt;</th></tr>\n",
       "</thead>\n",
       "<tbody>\n",
       "\t<tr><td>      NA</td><td>204.8905</td><td>20791.32</td><td>7.300212</td><td>368.5164</td><td>10.37978</td><td>86.99097</td><td>2.963135</td><td>0</td></tr>\n",
       "\t<tr><td>3.716080</td><td>129.4229</td><td>18630.06</td><td>6.635246</td><td>      NA</td><td>15.18001</td><td>56.32908</td><td>4.500656</td><td>0</td></tr>\n",
       "\t<tr><td>8.099124</td><td>224.2363</td><td>19909.54</td><td>9.275884</td><td>      NA</td><td>16.86864</td><td>66.42009</td><td>3.055934</td><td>0</td></tr>\n",
       "\t<tr><td>⋮</td><td>⋮</td><td>⋮</td><td>⋮</td><td>⋮</td><td>⋮</td><td>⋮</td><td>⋮</td><td>⋮</td></tr>\n",
       "\t<tr><td>9.419510</td><td>175.7626</td><td>33155.58</td><td>7.350233</td><td>NA</td><td>11.03907</td><td>69.84540</td><td>3.298875</td><td>1</td></tr>\n",
       "\t<tr><td>5.126763</td><td>230.6038</td><td>11983.87</td><td>6.303357</td><td>NA</td><td>11.16895</td><td>77.48821</td><td>4.708658</td><td>1</td></tr>\n",
       "\t<tr><td>7.874671</td><td>195.1023</td><td>17404.18</td><td>7.509306</td><td>NA</td><td>16.14037</td><td>78.69845</td><td>2.309149</td><td>1</td></tr>\n",
       "</tbody>\n",
       "</table>\n"
      ],
      "text/latex": [
       "A tibble: 3276 × 9\n",
       "\\begin{tabular}{lllllllll}\n",
       " ph & Hardness & Solids & Chloramines & Sulfate & Organic\\_carbon & Trihalomethanes & Turbidity & Potability\\\\\n",
       " <dbl> & <dbl> & <dbl> & <dbl> & <dbl> & <dbl> & <dbl> & <dbl> & <dbl>\\\\\n",
       "\\hline\n",
       "\t       NA & 204.8905 & 20791.32 & 7.300212 & 368.5164 & 10.37978 & 86.99097 & 2.963135 & 0\\\\\n",
       "\t 3.716080 & 129.4229 & 18630.06 & 6.635246 &       NA & 15.18001 & 56.32908 & 4.500656 & 0\\\\\n",
       "\t 8.099124 & 224.2363 & 19909.54 & 9.275884 &       NA & 16.86864 & 66.42009 & 3.055934 & 0\\\\\n",
       "\t ⋮ & ⋮ & ⋮ & ⋮ & ⋮ & ⋮ & ⋮ & ⋮ & ⋮\\\\\n",
       "\t 9.419510 & 175.7626 & 33155.58 & 7.350233 & NA & 11.03907 & 69.84540 & 3.298875 & 1\\\\\n",
       "\t 5.126763 & 230.6038 & 11983.87 & 6.303357 & NA & 11.16895 & 77.48821 & 4.708658 & 1\\\\\n",
       "\t 7.874671 & 195.1023 & 17404.18 & 7.509306 & NA & 16.14037 & 78.69845 & 2.309149 & 1\\\\\n",
       "\\end{tabular}\n"
      ],
      "text/markdown": [
       "\n",
       "A tibble: 3276 × 9\n",
       "\n",
       "| ph &lt;dbl&gt; | Hardness &lt;dbl&gt; | Solids &lt;dbl&gt; | Chloramines &lt;dbl&gt; | Sulfate &lt;dbl&gt; | Organic_carbon &lt;dbl&gt; | Trihalomethanes &lt;dbl&gt; | Turbidity &lt;dbl&gt; | Potability &lt;dbl&gt; |\n",
       "|---|---|---|---|---|---|---|---|---|\n",
       "|       NA | 204.8905 | 20791.32 | 7.300212 | 368.5164 | 10.37978 | 86.99097 | 2.963135 | 0 |\n",
       "| 3.716080 | 129.4229 | 18630.06 | 6.635246 |       NA | 15.18001 | 56.32908 | 4.500656 | 0 |\n",
       "| 8.099124 | 224.2363 | 19909.54 | 9.275884 |       NA | 16.86864 | 66.42009 | 3.055934 | 0 |\n",
       "| ⋮ | ⋮ | ⋮ | ⋮ | ⋮ | ⋮ | ⋮ | ⋮ | ⋮ |\n",
       "| 9.419510 | 175.7626 | 33155.58 | 7.350233 | NA | 11.03907 | 69.84540 | 3.298875 | 1 |\n",
       "| 5.126763 | 230.6038 | 11983.87 | 6.303357 | NA | 11.16895 | 77.48821 | 4.708658 | 1 |\n",
       "| 7.874671 | 195.1023 | 17404.18 | 7.509306 | NA | 16.14037 | 78.69845 | 2.309149 | 1 |\n",
       "\n"
      ],
      "text/plain": [
       "     ph       Hardness Solids   Chloramines Sulfate  Organic_carbon\n",
       "1          NA 204.8905 20791.32 7.300212    368.5164 10.37978      \n",
       "2    3.716080 129.4229 18630.06 6.635246          NA 15.18001      \n",
       "3    8.099124 224.2363 19909.54 9.275884          NA 16.86864      \n",
       "⋮    ⋮        ⋮        ⋮        ⋮           ⋮        ⋮             \n",
       "3274 9.419510 175.7626 33155.58 7.350233    NA       11.03907      \n",
       "3275 5.126763 230.6038 11983.87 6.303357    NA       11.16895      \n",
       "3276 7.874671 195.1023 17404.18 7.509306    NA       16.14037      \n",
       "     Trihalomethanes Turbidity Potability\n",
       "1    86.99097        2.963135  0         \n",
       "2    56.32908        4.500656  0         \n",
       "3    66.42009        3.055934  0         \n",
       "⋮    ⋮               ⋮         ⋮         \n",
       "3274 69.84540        3.298875  1         \n",
       "3275 77.48821        4.708658  1         \n",
       "3276 78.69845        2.309149  1         "
      ]
     },
     "metadata": {},
     "output_type": "display_data"
    }
   ],
   "source": [
    "#reading the data set from the web \n",
    "url <- \"https://raw.githubusercontent.com/nori-2004/data-science-group-project/main/water_potability.csv\"\n",
    "water <- read_csv(url)\n",
    "\n",
    "#cleaning the data by selecting the columns we want to use\n",
    "water_selected <- select(water, - Conductivity)\n",
    "water_selected"
   ]
  },
  {
   "cell_type": "code",
   "execution_count": 5,
   "id": "6b5d0ab0-d780-4821-ac41-0157de5b0aa7",
   "metadata": {
    "tags": []
   },
   "outputs": [
    {
     "data": {
      "text/html": [
       "<table class=\"dataframe\">\n",
       "<caption>A tibble: 2457 × 9</caption>\n",
       "<thead>\n",
       "\t<tr><th scope=col>ph</th><th scope=col>Hardness</th><th scope=col>Solids</th><th scope=col>Chloramines</th><th scope=col>Sulfate</th><th scope=col>Organic_carbon</th><th scope=col>Trihalomethanes</th><th scope=col>Turbidity</th><th scope=col>Potability</th></tr>\n",
       "\t<tr><th scope=col>&lt;dbl&gt;</th><th scope=col>&lt;dbl&gt;</th><th scope=col>&lt;dbl&gt;</th><th scope=col>&lt;dbl&gt;</th><th scope=col>&lt;dbl&gt;</th><th scope=col>&lt;dbl&gt;</th><th scope=col>&lt;dbl&gt;</th><th scope=col>&lt;dbl&gt;</th><th scope=col>&lt;dbl&gt;</th></tr>\n",
       "</thead>\n",
       "<tbody>\n",
       "\t<tr><td>8.423084</td><td>153.0329</td><td>15924.80</td><td>11.101628</td><td>329.1322</td><td>12.321633</td><td>52.63131</td><td>3.958609</td><td>1</td></tr>\n",
       "\t<tr><td>7.222998</td><td>179.5603</td><td>21314.87</td><td> 5.864717</td><td>      NA</td><td>11.878370</td><td>79.39401</td><td>3.966259</td><td>1</td></tr>\n",
       "\t<tr><td>3.641630</td><td>183.9087</td><td>24752.07</td><td> 5.538314</td><td>286.0596</td><td> 9.034067</td><td>73.59466</td><td>3.464353</td><td>0</td></tr>\n",
       "\t<tr><td>⋮</td><td>⋮</td><td>⋮</td><td>⋮</td><td>⋮</td><td>⋮</td><td>⋮</td><td>⋮</td><td>⋮</td></tr>\n",
       "\t<tr><td> 7.010243</td><td>162.1232</td><td>26395.25</td><td>6.622597</td><td>      NA</td><td>12.27799</td><td>51.62869</td><td>3.279006</td><td>0</td></tr>\n",
       "\t<tr><td> 6.109073</td><td>191.7556</td><td>26853.95</td><td>9.064613</td><td>312.2020</td><td>15.51403</td><td>73.78968</td><td>4.881101</td><td>0</td></tr>\n",
       "\t<tr><td>10.893485</td><td>177.7344</td><td>25702.52</td><td>7.659830</td><td>312.3993</td><td>17.47211</td><td>42.81457</td><td>3.634970</td><td>0</td></tr>\n",
       "</tbody>\n",
       "</table>\n"
      ],
      "text/latex": [
       "A tibble: 2457 × 9\n",
       "\\begin{tabular}{lllllllll}\n",
       " ph & Hardness & Solids & Chloramines & Sulfate & Organic\\_carbon & Trihalomethanes & Turbidity & Potability\\\\\n",
       " <dbl> & <dbl> & <dbl> & <dbl> & <dbl> & <dbl> & <dbl> & <dbl> & <dbl>\\\\\n",
       "\\hline\n",
       "\t 8.423084 & 153.0329 & 15924.80 & 11.101628 & 329.1322 & 12.321633 & 52.63131 & 3.958609 & 1\\\\\n",
       "\t 7.222998 & 179.5603 & 21314.87 &  5.864717 &       NA & 11.878370 & 79.39401 & 3.966259 & 1\\\\\n",
       "\t 3.641630 & 183.9087 & 24752.07 &  5.538314 & 286.0596 &  9.034067 & 73.59466 & 3.464353 & 0\\\\\n",
       "\t ⋮ & ⋮ & ⋮ & ⋮ & ⋮ & ⋮ & ⋮ & ⋮ & ⋮\\\\\n",
       "\t  7.010243 & 162.1232 & 26395.25 & 6.622597 &       NA & 12.27799 & 51.62869 & 3.279006 & 0\\\\\n",
       "\t  6.109073 & 191.7556 & 26853.95 & 9.064613 & 312.2020 & 15.51403 & 73.78968 & 4.881101 & 0\\\\\n",
       "\t 10.893485 & 177.7344 & 25702.52 & 7.659830 & 312.3993 & 17.47211 & 42.81457 & 3.634970 & 0\\\\\n",
       "\\end{tabular}\n"
      ],
      "text/markdown": [
       "\n",
       "A tibble: 2457 × 9\n",
       "\n",
       "| ph &lt;dbl&gt; | Hardness &lt;dbl&gt; | Solids &lt;dbl&gt; | Chloramines &lt;dbl&gt; | Sulfate &lt;dbl&gt; | Organic_carbon &lt;dbl&gt; | Trihalomethanes &lt;dbl&gt; | Turbidity &lt;dbl&gt; | Potability &lt;dbl&gt; |\n",
       "|---|---|---|---|---|---|---|---|---|\n",
       "| 8.423084 | 153.0329 | 15924.80 | 11.101628 | 329.1322 | 12.321633 | 52.63131 | 3.958609 | 1 |\n",
       "| 7.222998 | 179.5603 | 21314.87 |  5.864717 |       NA | 11.878370 | 79.39401 | 3.966259 | 1 |\n",
       "| 3.641630 | 183.9087 | 24752.07 |  5.538314 | 286.0596 |  9.034067 | 73.59466 | 3.464353 | 0 |\n",
       "| ⋮ | ⋮ | ⋮ | ⋮ | ⋮ | ⋮ | ⋮ | ⋮ | ⋮ |\n",
       "|  7.010243 | 162.1232 | 26395.25 | 6.622597 |       NA | 12.27799 | 51.62869 | 3.279006 | 0 |\n",
       "|  6.109073 | 191.7556 | 26853.95 | 9.064613 | 312.2020 | 15.51403 | 73.78968 | 4.881101 | 0 |\n",
       "| 10.893485 | 177.7344 | 25702.52 | 7.659830 | 312.3993 | 17.47211 | 42.81457 | 3.634970 | 0 |\n",
       "\n"
      ],
      "text/plain": [
       "     ph        Hardness Solids   Chloramines Sulfate  Organic_carbon\n",
       "1    8.423084  153.0329 15924.80 11.101628   329.1322 12.321633     \n",
       "2    7.222998  179.5603 21314.87  5.864717         NA 11.878370     \n",
       "3    3.641630  183.9087 24752.07  5.538314   286.0596  9.034067     \n",
       "⋮    ⋮         ⋮        ⋮        ⋮           ⋮        ⋮             \n",
       "2455  7.010243 162.1232 26395.25 6.622597          NA 12.27799      \n",
       "2456  6.109073 191.7556 26853.95 9.064613    312.2020 15.51403      \n",
       "2457 10.893485 177.7344 25702.52 7.659830    312.3993 17.47211      \n",
       "     Trihalomethanes Turbidity Potability\n",
       "1    52.63131        3.958609  1         \n",
       "2    79.39401        3.966259  1         \n",
       "3    73.59466        3.464353  0         \n",
       "⋮    ⋮               ⋮         ⋮         \n",
       "2455 51.62869        3.279006  0         \n",
       "2456 73.78968        4.881101  0         \n",
       "2457 42.81457        3.634970  0         "
      ]
     },
     "metadata": {},
     "output_type": "display_data"
    }
   ],
   "source": [
    "#splitting the data into testing and training sets\n",
    "water_split <- initial_split(water_selected, prop = 0.75)\n",
    "water_train <- training(water_split)   \n",
    "water_test <- testing(water_split)\n",
    "water_train"
   ]
  },
  {
   "cell_type": "code",
   "execution_count": null,
   "id": "d596a0a4-b59c-483f-aa13-0838f1a11fbc",
   "metadata": {},
   "outputs": [],
   "source": []
  }
 ],
 "metadata": {
  "kernelspec": {
   "display_name": "R",
   "language": "R",
   "name": "ir"
  },
  "language_info": {
   "codemirror_mode": "r",
   "file_extension": ".r",
   "mimetype": "text/x-r-source",
   "name": "R",
   "pygments_lexer": "r",
   "version": "4.2.2"
  }
 },
 "nbformat": 4,
 "nbformat_minor": 5
}
