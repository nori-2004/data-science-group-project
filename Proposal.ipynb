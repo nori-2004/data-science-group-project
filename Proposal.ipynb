{
 "cells": [
  {
   "cell_type": "markdown",
   "id": "83ef82a7-6936-45e3-8ab6-11be76153c8c",
   "metadata": {},
   "source": [
    "# Determining Water Potability\n",
    "\n",
    "**Introduction**\n",
    "\n",
    "Water potability is critical for supporting populations, various industries and agricultural activities that rely on clean water for survival. Clean and drinkable water can be determined by careful analysis of certain characteristics of a sample. Using classification we hope to train a data set to be able to classify water as safe or not based on its characteristics. The question we will be asking is: Is this water sample potable based on the different levels and characteristics of it?\n",
    "The data set we will be using is ‘Water Quality and Potability’. Each observation has a pH value, total solids dissolved, chloramines count, sulfate count, conductivity, organic carbon level, trihalomethanes, turbidity and potability. With these values we hope to train a classification system that can provide accurate results on potability. \n"
   ]
  },
  {
   "cell_type": "markdown",
   "id": "f582e153-e1cb-4761-bc37-d4dce4d9274c",
   "metadata": {
    "tags": []
   },
   "source": [
    "**The Dataset**"
   ]
  },
  {
   "cell_type": "code",
   "execution_count": 1,
   "id": "362a73b4-a73f-4109-b0bd-181ab2ed87dd",
   "metadata": {
    "tags": []
   },
   "outputs": [
    {
     "name": "stderr",
     "output_type": "stream",
     "text": [
      "── \u001b[1mAttaching packages\u001b[22m ─────────────────────────────────────── tidyverse 1.3.2 ──\n",
      "\u001b[32m✔\u001b[39m \u001b[34mggplot2\u001b[39m 3.4.2     \u001b[32m✔\u001b[39m \u001b[34mpurrr  \u001b[39m 1.0.1\n",
      "\u001b[32m✔\u001b[39m \u001b[34mtibble \u001b[39m 3.2.1     \u001b[32m✔\u001b[39m \u001b[34mdplyr  \u001b[39m 1.1.1\n",
      "\u001b[32m✔\u001b[39m \u001b[34mtidyr  \u001b[39m 1.3.0     \u001b[32m✔\u001b[39m \u001b[34mstringr\u001b[39m 1.5.0\n",
      "\u001b[32m✔\u001b[39m \u001b[34mreadr  \u001b[39m 2.1.3     \u001b[32m✔\u001b[39m \u001b[34mforcats\u001b[39m 0.5.2\n",
      "── \u001b[1mConflicts\u001b[22m ────────────────────────────────────────── tidyverse_conflicts() ──\n",
      "\u001b[31m✖\u001b[39m \u001b[34mdplyr\u001b[39m::\u001b[32mfilter()\u001b[39m masks \u001b[34mstats\u001b[39m::filter()\n",
      "\u001b[31m✖\u001b[39m \u001b[34mdplyr\u001b[39m::\u001b[32mlag()\u001b[39m    masks \u001b[34mstats\u001b[39m::lag()\n",
      "── \u001b[1mAttaching packages\u001b[22m ────────────────────────────────────── tidymodels 1.0.0 ──\n",
      "\n",
      "\u001b[32m✔\u001b[39m \u001b[34mbroom       \u001b[39m 1.0.2     \u001b[32m✔\u001b[39m \u001b[34mrsample     \u001b[39m 1.1.1\n",
      "\u001b[32m✔\u001b[39m \u001b[34mdials       \u001b[39m 1.1.0     \u001b[32m✔\u001b[39m \u001b[34mtune        \u001b[39m 1.0.1\n",
      "\u001b[32m✔\u001b[39m \u001b[34minfer       \u001b[39m 1.0.4     \u001b[32m✔\u001b[39m \u001b[34mworkflows   \u001b[39m 1.1.2\n",
      "\u001b[32m✔\u001b[39m \u001b[34mmodeldata   \u001b[39m 1.0.1     \u001b[32m✔\u001b[39m \u001b[34mworkflowsets\u001b[39m 1.0.0\n",
      "\u001b[32m✔\u001b[39m \u001b[34mparsnip     \u001b[39m 1.0.3     \u001b[32m✔\u001b[39m \u001b[34myardstick   \u001b[39m 1.1.0\n",
      "\u001b[32m✔\u001b[39m \u001b[34mrecipes     \u001b[39m 1.0.4     \n",
      "\n",
      "── \u001b[1mConflicts\u001b[22m ───────────────────────────────────────── tidymodels_conflicts() ──\n",
      "\u001b[31m✖\u001b[39m \u001b[34mscales\u001b[39m::\u001b[32mdiscard()\u001b[39m masks \u001b[34mpurrr\u001b[39m::discard()\n",
      "\u001b[31m✖\u001b[39m \u001b[34mdplyr\u001b[39m::\u001b[32mfilter()\u001b[39m   masks \u001b[34mstats\u001b[39m::filter()\n",
      "\u001b[31m✖\u001b[39m \u001b[34mrecipes\u001b[39m::\u001b[32mfixed()\u001b[39m  masks \u001b[34mstringr\u001b[39m::fixed()\n",
      "\u001b[31m✖\u001b[39m \u001b[34mdplyr\u001b[39m::\u001b[32mlag()\u001b[39m      masks \u001b[34mstats\u001b[39m::lag()\n",
      "\u001b[31m✖\u001b[39m \u001b[34myardstick\u001b[39m::\u001b[32mspec()\u001b[39m masks \u001b[34mreadr\u001b[39m::spec()\n",
      "\u001b[31m✖\u001b[39m \u001b[34mrecipes\u001b[39m::\u001b[32mstep()\u001b[39m   masks \u001b[34mstats\u001b[39m::step()\n",
      "\u001b[34m•\u001b[39m Dig deeper into tidy modeling with R at \u001b[32mhttps://www.tmwr.org\u001b[39m\n",
      "\n",
      "Warning message in file(filename, \"r\", encoding = encoding):\n",
      "“cannot open file 'tests.R': No such file or directory”\n"
     ]
    },
    {
     "ename": "ERROR",
     "evalue": "Error in file(filename, \"r\", encoding = encoding): cannot open the connection\n",
     "output_type": "error",
     "traceback": [
      "Error in file(filename, \"r\", encoding = encoding): cannot open the connection\nTraceback:\n",
      "1. source(\"tests.R\")",
      "2. file(filename, \"r\", encoding = encoding)"
     ]
    }
   ],
   "source": [
    "library(tidyverse)\n",
    "library(repr)\n",
    "library(tidymodels)\n",
    "options(repr.matrix.max.rows = 6)\n",
    "source('tests.R')\n",
    "source(\"cleanup.R\")\n"
   ]
  },
  {
   "cell_type": "code",
   "execution_count": 2,
   "id": "30a571e1-9045-4886-ab2d-272424f9c554",
   "metadata": {
    "tags": []
   },
   "outputs": [
    {
     "name": "stderr",
     "output_type": "stream",
     "text": [
      "\u001b[1mRows: \u001b[22m\u001b[34m3276\u001b[39m \u001b[1mColumns: \u001b[22m\u001b[34m10\u001b[39m\n",
      "\u001b[36m──\u001b[39m \u001b[1mColumn specification\u001b[22m \u001b[36m────────────────────────────────────────────────────────\u001b[39m\n",
      "\u001b[1mDelimiter:\u001b[22m \",\"\n",
      "\u001b[32mdbl\u001b[39m (10): ph, Hardness, Solids, Chloramines, Sulfate, Conductivity, Organic_...\n",
      "\n",
      "\u001b[36mℹ\u001b[39m Use `spec()` to retrieve the full column specification for this data.\n",
      "\u001b[36mℹ\u001b[39m Specify the column types or set `show_col_types = FALSE` to quiet this message.\n"
     ]
    },
    {
     "data": {
      "text/html": [
       "<table class=\"dataframe\">\n",
       "<caption>A tibble: 3276 × 9</caption>\n",
       "<thead>\n",
       "\t<tr><th scope=col>ph</th><th scope=col>Hardness</th><th scope=col>Solids</th><th scope=col>Chloramines</th><th scope=col>Sulfate</th><th scope=col>Organic_carbon</th><th scope=col>Trihalomethanes</th><th scope=col>Turbidity</th><th scope=col>Potability</th></tr>\n",
       "\t<tr><th scope=col>&lt;dbl&gt;</th><th scope=col>&lt;dbl&gt;</th><th scope=col>&lt;dbl&gt;</th><th scope=col>&lt;dbl&gt;</th><th scope=col>&lt;dbl&gt;</th><th scope=col>&lt;dbl&gt;</th><th scope=col>&lt;dbl&gt;</th><th scope=col>&lt;dbl&gt;</th><th scope=col>&lt;fct&gt;</th></tr>\n",
       "</thead>\n",
       "<tbody>\n",
       "\t<tr><td>      NA</td><td>204.8905</td><td>20791.32</td><td>7.300212</td><td>368.5164</td><td>10.37978</td><td>86.99097</td><td>2.963135</td><td>0</td></tr>\n",
       "\t<tr><td>3.716080</td><td>129.4229</td><td>18630.06</td><td>6.635246</td><td>      NA</td><td>15.18001</td><td>56.32908</td><td>4.500656</td><td>0</td></tr>\n",
       "\t<tr><td>8.099124</td><td>224.2363</td><td>19909.54</td><td>9.275884</td><td>      NA</td><td>16.86864</td><td>66.42009</td><td>3.055934</td><td>0</td></tr>\n",
       "\t<tr><td>⋮</td><td>⋮</td><td>⋮</td><td>⋮</td><td>⋮</td><td>⋮</td><td>⋮</td><td>⋮</td><td>⋮</td></tr>\n",
       "\t<tr><td>9.419510</td><td>175.7626</td><td>33155.58</td><td>7.350233</td><td>NA</td><td>11.03907</td><td>69.84540</td><td>3.298875</td><td>1</td></tr>\n",
       "\t<tr><td>5.126763</td><td>230.6038</td><td>11983.87</td><td>6.303357</td><td>NA</td><td>11.16895</td><td>77.48821</td><td>4.708658</td><td>1</td></tr>\n",
       "\t<tr><td>7.874671</td><td>195.1023</td><td>17404.18</td><td>7.509306</td><td>NA</td><td>16.14037</td><td>78.69845</td><td>2.309149</td><td>1</td></tr>\n",
       "</tbody>\n",
       "</table>\n"
      ],
      "text/latex": [
       "A tibble: 3276 × 9\n",
       "\\begin{tabular}{lllllllll}\n",
       " ph & Hardness & Solids & Chloramines & Sulfate & Organic\\_carbon & Trihalomethanes & Turbidity & Potability\\\\\n",
       " <dbl> & <dbl> & <dbl> & <dbl> & <dbl> & <dbl> & <dbl> & <dbl> & <fct>\\\\\n",
       "\\hline\n",
       "\t       NA & 204.8905 & 20791.32 & 7.300212 & 368.5164 & 10.37978 & 86.99097 & 2.963135 & 0\\\\\n",
       "\t 3.716080 & 129.4229 & 18630.06 & 6.635246 &       NA & 15.18001 & 56.32908 & 4.500656 & 0\\\\\n",
       "\t 8.099124 & 224.2363 & 19909.54 & 9.275884 &       NA & 16.86864 & 66.42009 & 3.055934 & 0\\\\\n",
       "\t ⋮ & ⋮ & ⋮ & ⋮ & ⋮ & ⋮ & ⋮ & ⋮ & ⋮\\\\\n",
       "\t 9.419510 & 175.7626 & 33155.58 & 7.350233 & NA & 11.03907 & 69.84540 & 3.298875 & 1\\\\\n",
       "\t 5.126763 & 230.6038 & 11983.87 & 6.303357 & NA & 11.16895 & 77.48821 & 4.708658 & 1\\\\\n",
       "\t 7.874671 & 195.1023 & 17404.18 & 7.509306 & NA & 16.14037 & 78.69845 & 2.309149 & 1\\\\\n",
       "\\end{tabular}\n"
      ],
      "text/markdown": [
       "\n",
       "A tibble: 3276 × 9\n",
       "\n",
       "| ph &lt;dbl&gt; | Hardness &lt;dbl&gt; | Solids &lt;dbl&gt; | Chloramines &lt;dbl&gt; | Sulfate &lt;dbl&gt; | Organic_carbon &lt;dbl&gt; | Trihalomethanes &lt;dbl&gt; | Turbidity &lt;dbl&gt; | Potability &lt;fct&gt; |\n",
       "|---|---|---|---|---|---|---|---|---|\n",
       "|       NA | 204.8905 | 20791.32 | 7.300212 | 368.5164 | 10.37978 | 86.99097 | 2.963135 | 0 |\n",
       "| 3.716080 | 129.4229 | 18630.06 | 6.635246 |       NA | 15.18001 | 56.32908 | 4.500656 | 0 |\n",
       "| 8.099124 | 224.2363 | 19909.54 | 9.275884 |       NA | 16.86864 | 66.42009 | 3.055934 | 0 |\n",
       "| ⋮ | ⋮ | ⋮ | ⋮ | ⋮ | ⋮ | ⋮ | ⋮ | ⋮ |\n",
       "| 9.419510 | 175.7626 | 33155.58 | 7.350233 | NA | 11.03907 | 69.84540 | 3.298875 | 1 |\n",
       "| 5.126763 | 230.6038 | 11983.87 | 6.303357 | NA | 11.16895 | 77.48821 | 4.708658 | 1 |\n",
       "| 7.874671 | 195.1023 | 17404.18 | 7.509306 | NA | 16.14037 | 78.69845 | 2.309149 | 1 |\n",
       "\n"
      ],
      "text/plain": [
       "     ph       Hardness Solids   Chloramines Sulfate  Organic_carbon\n",
       "1          NA 204.8905 20791.32 7.300212    368.5164 10.37978      \n",
       "2    3.716080 129.4229 18630.06 6.635246          NA 15.18001      \n",
       "3    8.099124 224.2363 19909.54 9.275884          NA 16.86864      \n",
       "⋮    ⋮        ⋮        ⋮        ⋮           ⋮        ⋮             \n",
       "3274 9.419510 175.7626 33155.58 7.350233    NA       11.03907      \n",
       "3275 5.126763 230.6038 11983.87 6.303357    NA       11.16895      \n",
       "3276 7.874671 195.1023 17404.18 7.509306    NA       16.14037      \n",
       "     Trihalomethanes Turbidity Potability\n",
       "1    86.99097        2.963135  0         \n",
       "2    56.32908        4.500656  0         \n",
       "3    66.42009        3.055934  0         \n",
       "⋮    ⋮               ⋮         ⋮         \n",
       "3274 69.84540        3.298875  1         \n",
       "3275 77.48821        4.708658  1         \n",
       "3276 78.69845        2.309149  1         "
      ]
     },
     "metadata": {},
     "output_type": "display_data"
    },
    {
     "data": {
      "text/html": [
       "3276"
      ],
      "text/latex": [
       "3276"
      ],
      "text/markdown": [
       "3276"
      ],
      "text/plain": [
       "[1] 3276"
      ]
     },
     "metadata": {},
     "output_type": "display_data"
    },
    {
     "data": {
      "text/html": [
       "3276"
      ],
      "text/latex": [
       "3276"
      ],
      "text/markdown": [
       "3276"
      ],
      "text/plain": [
       "[1] 3276"
      ]
     },
     "metadata": {},
     "output_type": "display_data"
    }
   ],
   "source": [
    "#reading the data set from the web \n",
    "url <- \"https://raw.githubusercontent.com/nori-2004/data-science-group-project/main/water_potability.csv\"\n",
    "water <- read_csv(url)\n",
    "\n",
    "#changing the potable variable to a factor datatype\n",
    "water<-water |> \n",
    "    mutate(Potability=as_factor(Potability))\n",
    "\n",
    "#cleaning the data by selecting the columns we want to use\n",
    "water_selected <- select(water, - Conductivity)\n",
    "water_selected\n",
    "\n",
    "#removing missing values \n",
    "initial_rows<-nrow(water)\n",
    "\n",
    "life_expectancy_data<-na.omit(water)\n",
    "\n",
    "final_rows<-nrow(water)\n",
    "\n",
    "initial_rows\n",
    "final_rows"
   ]
  },
  {
   "cell_type": "markdown",
   "id": "8398065a-b8e5-423b-b393-090c8d9b55fa",
   "metadata": {},
   "source": [
    "There were no missing values in our dataset"
   ]
  },
  {
   "cell_type": "code",
   "execution_count": 3,
   "id": "6b5d0ab0-d780-4821-ac41-0157de5b0aa7",
   "metadata": {
    "tags": []
   },
   "outputs": [
    {
     "data": {
      "text/html": [
       "<table class=\"dataframe\">\n",
       "<caption>A tibble: 2457 × 9</caption>\n",
       "<thead>\n",
       "\t<tr><th scope=col>ph</th><th scope=col>Hardness</th><th scope=col>Solids</th><th scope=col>Chloramines</th><th scope=col>Sulfate</th><th scope=col>Organic_carbon</th><th scope=col>Trihalomethanes</th><th scope=col>Turbidity</th><th scope=col>Potability</th></tr>\n",
       "\t<tr><th scope=col>&lt;dbl&gt;</th><th scope=col>&lt;dbl&gt;</th><th scope=col>&lt;dbl&gt;</th><th scope=col>&lt;dbl&gt;</th><th scope=col>&lt;dbl&gt;</th><th scope=col>&lt;dbl&gt;</th><th scope=col>&lt;dbl&gt;</th><th scope=col>&lt;dbl&gt;</th><th scope=col>&lt;fct&gt;</th></tr>\n",
       "</thead>\n",
       "<tbody>\n",
       "\t<tr><td>6.369112</td><td>235.3409</td><td>34456.80</td><td>9.170940</td><td>295.3505</td><td> 9.213268</td><td>59.28027</td><td>2.275903</td><td>0</td></tr>\n",
       "\t<tr><td>8.529669</td><td>157.7005</td><td>18203.73</td><td>8.926826</td><td>309.5420</td><td>12.287824</td><td>52.02874</td><td>3.776041</td><td>1</td></tr>\n",
       "\t<tr><td>7.104595</td><td>201.6271</td><td>18093.97</td><td>8.474123</td><td>361.6292</td><td> 8.582461</td><td>49.38268</td><td>4.763058</td><td>0</td></tr>\n",
       "\t<tr><td>⋮</td><td>⋮</td><td>⋮</td><td>⋮</td><td>⋮</td><td>⋮</td><td>⋮</td><td>⋮</td><td>⋮</td></tr>\n",
       "\t<tr><td>7.535700</td><td>221.7925</td><td>14829.75</td><td>6.701159</td><td>366.4122</td><td>17.73188</td><td>59.68608</td><td>4.208354</td><td>1</td></tr>\n",
       "\t<tr><td>7.301563</td><td>177.6629</td><td>23441.27</td><td>9.107017</td><td>326.2906</td><td>14.00340</td><td>55.18335</td><td>2.774961</td><td>0</td></tr>\n",
       "\t<tr><td>7.230845</td><td>177.5748</td><td>17864.69</td><td>5.818229</td><td>343.5933</td><td>19.91295</td><td>59.30305</td><td>5.622018</td><td>0</td></tr>\n",
       "</tbody>\n",
       "</table>\n"
      ],
      "text/latex": [
       "A tibble: 2457 × 9\n",
       "\\begin{tabular}{lllllllll}\n",
       " ph & Hardness & Solids & Chloramines & Sulfate & Organic\\_carbon & Trihalomethanes & Turbidity & Potability\\\\\n",
       " <dbl> & <dbl> & <dbl> & <dbl> & <dbl> & <dbl> & <dbl> & <dbl> & <fct>\\\\\n",
       "\\hline\n",
       "\t 6.369112 & 235.3409 & 34456.80 & 9.170940 & 295.3505 &  9.213268 & 59.28027 & 2.275903 & 0\\\\\n",
       "\t 8.529669 & 157.7005 & 18203.73 & 8.926826 & 309.5420 & 12.287824 & 52.02874 & 3.776041 & 1\\\\\n",
       "\t 7.104595 & 201.6271 & 18093.97 & 8.474123 & 361.6292 &  8.582461 & 49.38268 & 4.763058 & 0\\\\\n",
       "\t ⋮ & ⋮ & ⋮ & ⋮ & ⋮ & ⋮ & ⋮ & ⋮ & ⋮\\\\\n",
       "\t 7.535700 & 221.7925 & 14829.75 & 6.701159 & 366.4122 & 17.73188 & 59.68608 & 4.208354 & 1\\\\\n",
       "\t 7.301563 & 177.6629 & 23441.27 & 9.107017 & 326.2906 & 14.00340 & 55.18335 & 2.774961 & 0\\\\\n",
       "\t 7.230845 & 177.5748 & 17864.69 & 5.818229 & 343.5933 & 19.91295 & 59.30305 & 5.622018 & 0\\\\\n",
       "\\end{tabular}\n"
      ],
      "text/markdown": [
       "\n",
       "A tibble: 2457 × 9\n",
       "\n",
       "| ph &lt;dbl&gt; | Hardness &lt;dbl&gt; | Solids &lt;dbl&gt; | Chloramines &lt;dbl&gt; | Sulfate &lt;dbl&gt; | Organic_carbon &lt;dbl&gt; | Trihalomethanes &lt;dbl&gt; | Turbidity &lt;dbl&gt; | Potability &lt;fct&gt; |\n",
       "|---|---|---|---|---|---|---|---|---|\n",
       "| 6.369112 | 235.3409 | 34456.80 | 9.170940 | 295.3505 |  9.213268 | 59.28027 | 2.275903 | 0 |\n",
       "| 8.529669 | 157.7005 | 18203.73 | 8.926826 | 309.5420 | 12.287824 | 52.02874 | 3.776041 | 1 |\n",
       "| 7.104595 | 201.6271 | 18093.97 | 8.474123 | 361.6292 |  8.582461 | 49.38268 | 4.763058 | 0 |\n",
       "| ⋮ | ⋮ | ⋮ | ⋮ | ⋮ | ⋮ | ⋮ | ⋮ | ⋮ |\n",
       "| 7.535700 | 221.7925 | 14829.75 | 6.701159 | 366.4122 | 17.73188 | 59.68608 | 4.208354 | 1 |\n",
       "| 7.301563 | 177.6629 | 23441.27 | 9.107017 | 326.2906 | 14.00340 | 55.18335 | 2.774961 | 0 |\n",
       "| 7.230845 | 177.5748 | 17864.69 | 5.818229 | 343.5933 | 19.91295 | 59.30305 | 5.622018 | 0 |\n",
       "\n"
      ],
      "text/plain": [
       "     ph       Hardness Solids   Chloramines Sulfate  Organic_carbon\n",
       "1    6.369112 235.3409 34456.80 9.170940    295.3505  9.213268     \n",
       "2    8.529669 157.7005 18203.73 8.926826    309.5420 12.287824     \n",
       "3    7.104595 201.6271 18093.97 8.474123    361.6292  8.582461     \n",
       "⋮    ⋮        ⋮        ⋮        ⋮           ⋮        ⋮             \n",
       "2455 7.535700 221.7925 14829.75 6.701159    366.4122 17.73188      \n",
       "2456 7.301563 177.6629 23441.27 9.107017    326.2906 14.00340      \n",
       "2457 7.230845 177.5748 17864.69 5.818229    343.5933 19.91295      \n",
       "     Trihalomethanes Turbidity Potability\n",
       "1    59.28027        2.275903  0         \n",
       "2    52.02874        3.776041  1         \n",
       "3    49.38268        4.763058  0         \n",
       "⋮    ⋮               ⋮         ⋮         \n",
       "2455 59.68608        4.208354  1         \n",
       "2456 55.18335        2.774961  0         \n",
       "2457 59.30305        5.622018  0         "
      ]
     },
     "metadata": {},
     "output_type": "display_data"
    }
   ],
   "source": [
    "#splitting the data into testing and training sets\n",
    "water_split <- initial_split(water_selected, prop = 0.75)\n",
    "water_train <- training(water_split)   \n",
    "water_test <- testing(water_split)\n",
    "water_train"
   ]
  },
  {
   "cell_type": "markdown",
   "id": "e6a0307a-4c25-4821-987c-0ed9b922963e",
   "metadata": {},
   "source": [
    "**Methodology**\n",
    "\n",
    "The problem that we have selected is a classification problem, i.e. classifying a sample of water into potable or non-potable. We will be using the K nearest neighbour classification do to so. Out of the 8 variables in our dataset, we will be using all of them as predictors besides conductivity. First, we shall prepare the data by tidying it and splitting it into training an testing sets. Then we will use cross-validation to pick the best “k” value for our dataset and then train the model using the training set, and then apply it to the testing set. This will ensure that we produce a classifier with the highest accuracy possible. Though, it would be ideal to have high precision and high recall, we shall be aiming to have a high recall with not-potable being the “positive” class. \n"
   ]
  },
  {
   "cell_type": "markdown",
   "id": "e469881c-aa9b-43b4-a60c-49cf6d0b50da",
   "metadata": {},
   "source": [
    "The best way in this case to visualize our result is to create several scatterplots using pairs of variables, this will also highlight any hidden co-relations between them. We will be experimenting with our visuals to avoid overplotting since there are over 900 observations in our data set. This will be done either by reducing the size or the transparency of the points.\n",
    "\n"
   ]
  },
  {
   "cell_type": "markdown",
   "id": "c71e5fa0-c479-4950-97f9-f26f634eed45",
   "metadata": {},
   "source": [
    "**Outcomes and Significance**\n",
    "\n",
    "We expect to find the ranges of each variable which are required for the water to be portable. Based on the strict maintenance of quality-determining variables needed for clean water, we expect a minimal range of variance between portable classified samples. Meanwhile, there is predicted to be a greater spread of data that falls in the non-portable range. \n",
    "The classification of water potability (water that is suitable for human consumption) is essential for evaluating water supplies around the world. The data model can be used to identify non-portable classified samples which can be further analyzed based on deviation from different portable water variables. This serves as a gateway to the analysis of water samples in specific industries. For instance, water samples with a higher turbidity than that of portable samples ( which indicate higher levels of microorganisms such as bacteria and parasites)  can be sent over to microbiological labs for further analysis. \n",
    "This leads to a plethora of other questions that can be explored, such as specific wastewater treatments based on the type of contamination (ie. sulfate, pH levels, etc.). Our findings could be further analyzed using calculation based questions such as the average amount of chloramines used in potable water. \n"
   ]
  },
  {
   "cell_type": "code",
   "execution_count": null,
   "id": "48113d20-b4ed-48de-aa62-582e88464cae",
   "metadata": {},
   "outputs": [],
   "source": []
  }
 ],
 "metadata": {
  "kernelspec": {
   "display_name": "R",
   "language": "R",
   "name": "ir"
  },
  "language_info": {
   "codemirror_mode": "r",
   "file_extension": ".r",
   "mimetype": "text/x-r-source",
   "name": "R",
   "pygments_lexer": "r",
   "version": "4.2.2"
  }
 },
 "nbformat": 4,
 "nbformat_minor": 5
}
