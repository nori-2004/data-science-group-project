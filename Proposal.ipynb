{
 "cells": [
  {
   "cell_type": "markdown",
   "id": "83ef82a7-6936-45e3-8ab6-11be76153c8c",
   "metadata": {},
   "source": [
    "# Determining Water Potability\n",
    "\n",
    "**Introduction**\n",
    "\n",
    "Water potability is critical for supporting populations, various industries and agricultural activities that rely on clean water for survival. Clean and drinkable water can be determined by careful analysis of certain characteristics of a sample. Using classification we hope to train a data set to be able to classify water as safe or not based on its characteristics. The question we will be asking is: Is this water sample potable based on the different levels and characteristics of it?\n",
    "The data set we will be using is ‘Water Quality and Potability’. Each observation has a pH value, total solids dissolved, chloramines count, sulfate count, conductivity, organic carbon level, trihalomethanes, turbidity and potability. With these values we hope to train a classification system that can provide accurate results on potability. \n"
   ]
  },
  {
   "cell_type": "markdown",
   "id": "f582e153-e1cb-4761-bc37-d4dce4d9274c",
   "metadata": {
    "tags": []
   },
   "source": [
    "**Reading in the Data**"
   ]
  },
  {
   "cell_type": "code",
   "execution_count": 1,
   "id": "362a73b4-a73f-4109-b0bd-181ab2ed87dd",
   "metadata": {
    "tags": []
   },
   "outputs": [
    {
     "name": "stderr",
     "output_type": "stream",
     "text": [
      "── \u001b[1mAttaching packages\u001b[22m ─────────────────────────────────────── tidyverse 1.3.2 ──\n",
      "\u001b[32m✔\u001b[39m \u001b[34mggplot2\u001b[39m 3.4.2     \u001b[32m✔\u001b[39m \u001b[34mpurrr  \u001b[39m 1.0.1\n",
      "\u001b[32m✔\u001b[39m \u001b[34mtibble \u001b[39m 3.2.1     \u001b[32m✔\u001b[39m \u001b[34mdplyr  \u001b[39m 1.1.1\n",
      "\u001b[32m✔\u001b[39m \u001b[34mtidyr  \u001b[39m 1.3.0     \u001b[32m✔\u001b[39m \u001b[34mstringr\u001b[39m 1.5.0\n",
      "\u001b[32m✔\u001b[39m \u001b[34mreadr  \u001b[39m 2.1.3     \u001b[32m✔\u001b[39m \u001b[34mforcats\u001b[39m 0.5.2\n",
      "── \u001b[1mConflicts\u001b[22m ────────────────────────────────────────── tidyverse_conflicts() ──\n",
      "\u001b[31m✖\u001b[39m \u001b[34mdplyr\u001b[39m::\u001b[32mfilter()\u001b[39m masks \u001b[34mstats\u001b[39m::filter()\n",
      "\u001b[31m✖\u001b[39m \u001b[34mdplyr\u001b[39m::\u001b[32mlag()\u001b[39m    masks \u001b[34mstats\u001b[39m::lag()\n",
      "── \u001b[1mAttaching packages\u001b[22m ────────────────────────────────────── tidymodels 1.0.0 ──\n",
      "\n",
      "\u001b[32m✔\u001b[39m \u001b[34mbroom       \u001b[39m 1.0.2     \u001b[32m✔\u001b[39m \u001b[34mrsample     \u001b[39m 1.1.1\n",
      "\u001b[32m✔\u001b[39m \u001b[34mdials       \u001b[39m 1.1.0     \u001b[32m✔\u001b[39m \u001b[34mtune        \u001b[39m 1.0.1\n",
      "\u001b[32m✔\u001b[39m \u001b[34minfer       \u001b[39m 1.0.4     \u001b[32m✔\u001b[39m \u001b[34mworkflows   \u001b[39m 1.1.2\n",
      "\u001b[32m✔\u001b[39m \u001b[34mmodeldata   \u001b[39m 1.0.1     \u001b[32m✔\u001b[39m \u001b[34mworkflowsets\u001b[39m 1.0.0\n",
      "\u001b[32m✔\u001b[39m \u001b[34mparsnip     \u001b[39m 1.0.3     \u001b[32m✔\u001b[39m \u001b[34myardstick   \u001b[39m 1.1.0\n",
      "\u001b[32m✔\u001b[39m \u001b[34mrecipes     \u001b[39m 1.0.4     \n",
      "\n",
      "── \u001b[1mConflicts\u001b[22m ───────────────────────────────────────── tidymodels_conflicts() ──\n",
      "\u001b[31m✖\u001b[39m \u001b[34mscales\u001b[39m::\u001b[32mdiscard()\u001b[39m masks \u001b[34mpurrr\u001b[39m::discard()\n",
      "\u001b[31m✖\u001b[39m \u001b[34mdplyr\u001b[39m::\u001b[32mfilter()\u001b[39m   masks \u001b[34mstats\u001b[39m::filter()\n",
      "\u001b[31m✖\u001b[39m \u001b[34mrecipes\u001b[39m::\u001b[32mfixed()\u001b[39m  masks \u001b[34mstringr\u001b[39m::fixed()\n",
      "\u001b[31m✖\u001b[39m \u001b[34mdplyr\u001b[39m::\u001b[32mlag()\u001b[39m      masks \u001b[34mstats\u001b[39m::lag()\n",
      "\u001b[31m✖\u001b[39m \u001b[34myardstick\u001b[39m::\u001b[32mspec()\u001b[39m masks \u001b[34mreadr\u001b[39m::spec()\n",
      "\u001b[31m✖\u001b[39m \u001b[34mrecipes\u001b[39m::\u001b[32mstep()\u001b[39m   masks \u001b[34mstats\u001b[39m::step()\n",
      "\u001b[34m•\u001b[39m Dig deeper into tidy modeling with R at \u001b[32mhttps://www.tmwr.org\u001b[39m\n",
      "\n",
      "\u001b[1mRows: \u001b[22m\u001b[34m3276\u001b[39m \u001b[1mColumns: \u001b[22m\u001b[34m10\u001b[39m\n",
      "\u001b[36m──\u001b[39m \u001b[1mColumn specification\u001b[22m \u001b[36m────────────────────────────────────────────────────────\u001b[39m\n",
      "\u001b[1mDelimiter:\u001b[22m \",\"\n",
      "\u001b[32mdbl\u001b[39m (10): ph, Hardness, Solids, Chloramines, Sulfate, Conductivity, Organic_...\n",
      "\n",
      "\u001b[36mℹ\u001b[39m Use `spec()` to retrieve the full column specification for this data.\n",
      "\u001b[36mℹ\u001b[39m Specify the column types or set `show_col_types = FALSE` to quiet this message.\n"
     ]
    }
   ],
   "source": [
    "library(tidyverse)\n",
    "library(repr)\n",
    "library(tidymodels)\n",
    "options(repr.matrix.max.rows = 6)\n",
    "set.seed(1234)\n",
    "\n",
    "#reading the data set from the web \n",
    "url <- \"https://raw.githubusercontent.com/nori-2004/data-science-group-project/main/water_potability.csv\"\n",
    "water <- read_csv(url)"
   ]
  },
  {
   "cell_type": "markdown",
   "id": "b4ed68a9-c9b8-4644-9bca-26d84aab623c",
   "metadata": {
    "tags": []
   },
   "source": [
    "**Cleaning and Wrangling**"
   ]
  },
  {
   "cell_type": "code",
   "execution_count": 2,
   "id": "30a571e1-9045-4886-ab2d-272424f9c554",
   "metadata": {
    "tags": []
   },
   "outputs": [
    {
     "data": {
      "text/html": [
       "<table class=\"dataframe\">\n",
       "<caption>A tibble: 3276 × 9</caption>\n",
       "<thead>\n",
       "\t<tr><th scope=col>ph</th><th scope=col>Hardness</th><th scope=col>Solids</th><th scope=col>Chloramines</th><th scope=col>Sulfate</th><th scope=col>Organic_carbon</th><th scope=col>Trihalomethanes</th><th scope=col>Turbidity</th><th scope=col>Potability</th></tr>\n",
       "\t<tr><th scope=col>&lt;dbl&gt;</th><th scope=col>&lt;dbl&gt;</th><th scope=col>&lt;dbl&gt;</th><th scope=col>&lt;dbl&gt;</th><th scope=col>&lt;dbl&gt;</th><th scope=col>&lt;dbl&gt;</th><th scope=col>&lt;dbl&gt;</th><th scope=col>&lt;dbl&gt;</th><th scope=col>&lt;fct&gt;</th></tr>\n",
       "</thead>\n",
       "<tbody>\n",
       "\t<tr><td>      NA</td><td>204.8905</td><td>20791.32</td><td>7.300212</td><td>368.5164</td><td>10.37978</td><td>86.99097</td><td>2.963135</td><td>0</td></tr>\n",
       "\t<tr><td>3.716080</td><td>129.4229</td><td>18630.06</td><td>6.635246</td><td>      NA</td><td>15.18001</td><td>56.32908</td><td>4.500656</td><td>0</td></tr>\n",
       "\t<tr><td>8.099124</td><td>224.2363</td><td>19909.54</td><td>9.275884</td><td>      NA</td><td>16.86864</td><td>66.42009</td><td>3.055934</td><td>0</td></tr>\n",
       "\t<tr><td>⋮</td><td>⋮</td><td>⋮</td><td>⋮</td><td>⋮</td><td>⋮</td><td>⋮</td><td>⋮</td><td>⋮</td></tr>\n",
       "\t<tr><td>9.419510</td><td>175.7626</td><td>33155.58</td><td>7.350233</td><td>NA</td><td>11.03907</td><td>69.84540</td><td>3.298875</td><td>1</td></tr>\n",
       "\t<tr><td>5.126763</td><td>230.6038</td><td>11983.87</td><td>6.303357</td><td>NA</td><td>11.16895</td><td>77.48821</td><td>4.708658</td><td>1</td></tr>\n",
       "\t<tr><td>7.874671</td><td>195.1023</td><td>17404.18</td><td>7.509306</td><td>NA</td><td>16.14037</td><td>78.69845</td><td>2.309149</td><td>1</td></tr>\n",
       "</tbody>\n",
       "</table>\n"
      ],
      "text/latex": [
       "A tibble: 3276 × 9\n",
       "\\begin{tabular}{lllllllll}\n",
       " ph & Hardness & Solids & Chloramines & Sulfate & Organic\\_carbon & Trihalomethanes & Turbidity & Potability\\\\\n",
       " <dbl> & <dbl> & <dbl> & <dbl> & <dbl> & <dbl> & <dbl> & <dbl> & <fct>\\\\\n",
       "\\hline\n",
       "\t       NA & 204.8905 & 20791.32 & 7.300212 & 368.5164 & 10.37978 & 86.99097 & 2.963135 & 0\\\\\n",
       "\t 3.716080 & 129.4229 & 18630.06 & 6.635246 &       NA & 15.18001 & 56.32908 & 4.500656 & 0\\\\\n",
       "\t 8.099124 & 224.2363 & 19909.54 & 9.275884 &       NA & 16.86864 & 66.42009 & 3.055934 & 0\\\\\n",
       "\t ⋮ & ⋮ & ⋮ & ⋮ & ⋮ & ⋮ & ⋮ & ⋮ & ⋮\\\\\n",
       "\t 9.419510 & 175.7626 & 33155.58 & 7.350233 & NA & 11.03907 & 69.84540 & 3.298875 & 1\\\\\n",
       "\t 5.126763 & 230.6038 & 11983.87 & 6.303357 & NA & 11.16895 & 77.48821 & 4.708658 & 1\\\\\n",
       "\t 7.874671 & 195.1023 & 17404.18 & 7.509306 & NA & 16.14037 & 78.69845 & 2.309149 & 1\\\\\n",
       "\\end{tabular}\n"
      ],
      "text/markdown": [
       "\n",
       "A tibble: 3276 × 9\n",
       "\n",
       "| ph &lt;dbl&gt; | Hardness &lt;dbl&gt; | Solids &lt;dbl&gt; | Chloramines &lt;dbl&gt; | Sulfate &lt;dbl&gt; | Organic_carbon &lt;dbl&gt; | Trihalomethanes &lt;dbl&gt; | Turbidity &lt;dbl&gt; | Potability &lt;fct&gt; |\n",
       "|---|---|---|---|---|---|---|---|---|\n",
       "|       NA | 204.8905 | 20791.32 | 7.300212 | 368.5164 | 10.37978 | 86.99097 | 2.963135 | 0 |\n",
       "| 3.716080 | 129.4229 | 18630.06 | 6.635246 |       NA | 15.18001 | 56.32908 | 4.500656 | 0 |\n",
       "| 8.099124 | 224.2363 | 19909.54 | 9.275884 |       NA | 16.86864 | 66.42009 | 3.055934 | 0 |\n",
       "| ⋮ | ⋮ | ⋮ | ⋮ | ⋮ | ⋮ | ⋮ | ⋮ | ⋮ |\n",
       "| 9.419510 | 175.7626 | 33155.58 | 7.350233 | NA | 11.03907 | 69.84540 | 3.298875 | 1 |\n",
       "| 5.126763 | 230.6038 | 11983.87 | 6.303357 | NA | 11.16895 | 77.48821 | 4.708658 | 1 |\n",
       "| 7.874671 | 195.1023 | 17404.18 | 7.509306 | NA | 16.14037 | 78.69845 | 2.309149 | 1 |\n",
       "\n"
      ],
      "text/plain": [
       "     ph       Hardness Solids   Chloramines Sulfate  Organic_carbon\n",
       "1          NA 204.8905 20791.32 7.300212    368.5164 10.37978      \n",
       "2    3.716080 129.4229 18630.06 6.635246          NA 15.18001      \n",
       "3    8.099124 224.2363 19909.54 9.275884          NA 16.86864      \n",
       "⋮    ⋮        ⋮        ⋮        ⋮           ⋮        ⋮             \n",
       "3274 9.419510 175.7626 33155.58 7.350233    NA       11.03907      \n",
       "3275 5.126763 230.6038 11983.87 6.303357    NA       11.16895      \n",
       "3276 7.874671 195.1023 17404.18 7.509306    NA       16.14037      \n",
       "     Trihalomethanes Turbidity Potability\n",
       "1    86.99097        2.963135  0         \n",
       "2    56.32908        4.500656  0         \n",
       "3    66.42009        3.055934  0         \n",
       "⋮    ⋮               ⋮         ⋮         \n",
       "3274 69.84540        3.298875  1         \n",
       "3275 77.48821        4.708658  1         \n",
       "3276 78.69845        2.309149  1         "
      ]
     },
     "metadata": {},
     "output_type": "display_data"
    }
   ],
   "source": [
    "#changing the potable variable to a factor datatype\n",
    "water<-water |> \n",
    "    mutate(Potability=as_factor(Potability))\n",
    "\n",
    "#cleaning the data by selecting the columns we want to use\n",
    "water_selected <- select(water, - Conductivity)\n",
    "water_selected\n"
   ]
  },
  {
   "cell_type": "markdown",
   "id": "8398065a-b8e5-423b-b393-090c8d9b55fa",
   "metadata": {},
   "source": [
    "\n"
   ]
  },
  {
   "cell_type": "code",
   "execution_count": 3,
   "id": "6b5d0ab0-d780-4821-ac41-0157de5b0aa7",
   "metadata": {
    "tags": []
   },
   "outputs": [
    {
     "data": {
      "text/html": [
       "<table class=\"dataframe\">\n",
       "<caption>A tibble: 2457 × 9</caption>\n",
       "<thead>\n",
       "\t<tr><th scope=col>ph</th><th scope=col>Hardness</th><th scope=col>Solids</th><th scope=col>Chloramines</th><th scope=col>Sulfate</th><th scope=col>Organic_carbon</th><th scope=col>Trihalomethanes</th><th scope=col>Turbidity</th><th scope=col>Potability</th></tr>\n",
       "\t<tr><th scope=col>&lt;dbl&gt;</th><th scope=col>&lt;dbl&gt;</th><th scope=col>&lt;dbl&gt;</th><th scope=col>&lt;dbl&gt;</th><th scope=col>&lt;dbl&gt;</th><th scope=col>&lt;dbl&gt;</th><th scope=col>&lt;dbl&gt;</th><th scope=col>&lt;dbl&gt;</th><th scope=col>&lt;fct&gt;</th></tr>\n",
       "</thead>\n",
       "<tbody>\n",
       "\t<tr><td>      NA</td><td>223.3767</td><td>20992.28</td><td>7.760408</td><td>340.3658</td><td>18.08538</td><td>61.01646</td><td>4.647782</td><td>0</td></tr>\n",
       "\t<tr><td>7.449660</td><td>193.0421</td><td>32251.36</td><td>6.086599</td><td>337.1350</td><td>18.06030</td><td>57.40134</td><td>4.370404</td><td>1</td></tr>\n",
       "\t<tr><td>4.581969</td><td>186.0979</td><td>33897.07</td><td>6.358402</td><td>316.5528</td><td>19.69985</td><td>62.32330</td><td>4.500208</td><td>0</td></tr>\n",
       "\t<tr><td>⋮</td><td>⋮</td><td>⋮</td><td>⋮</td><td>⋮</td><td>⋮</td><td>⋮</td><td>⋮</td><td>⋮</td></tr>\n",
       "\t<tr><td>5.117390</td><td>225.6574</td><td>30914.11</td><td>6.207729</td><td>371.6494</td><td> 8.073421</td><td>77.38814</td><td>3.937188</td><td>1</td></tr>\n",
       "\t<tr><td>      NA</td><td>159.3994</td><td>61227.20</td><td>3.713594</td><td>312.9763</td><td>17.246698</td><td>82.19723</td><td>3.860807</td><td>0</td></tr>\n",
       "\t<tr><td>6.729191</td><td>178.4936</td><td>31991.96</td><td>5.632940</td><td>      NA</td><td>14.805198</td><td>64.12915</td><td>5.112254</td><td>1</td></tr>\n",
       "</tbody>\n",
       "</table>\n"
      ],
      "text/latex": [
       "A tibble: 2457 × 9\n",
       "\\begin{tabular}{lllllllll}\n",
       " ph & Hardness & Solids & Chloramines & Sulfate & Organic\\_carbon & Trihalomethanes & Turbidity & Potability\\\\\n",
       " <dbl> & <dbl> & <dbl> & <dbl> & <dbl> & <dbl> & <dbl> & <dbl> & <fct>\\\\\n",
       "\\hline\n",
       "\t       NA & 223.3767 & 20992.28 & 7.760408 & 340.3658 & 18.08538 & 61.01646 & 4.647782 & 0\\\\\n",
       "\t 7.449660 & 193.0421 & 32251.36 & 6.086599 & 337.1350 & 18.06030 & 57.40134 & 4.370404 & 1\\\\\n",
       "\t 4.581969 & 186.0979 & 33897.07 & 6.358402 & 316.5528 & 19.69985 & 62.32330 & 4.500208 & 0\\\\\n",
       "\t ⋮ & ⋮ & ⋮ & ⋮ & ⋮ & ⋮ & ⋮ & ⋮ & ⋮\\\\\n",
       "\t 5.117390 & 225.6574 & 30914.11 & 6.207729 & 371.6494 &  8.073421 & 77.38814 & 3.937188 & 1\\\\\n",
       "\t       NA & 159.3994 & 61227.20 & 3.713594 & 312.9763 & 17.246698 & 82.19723 & 3.860807 & 0\\\\\n",
       "\t 6.729191 & 178.4936 & 31991.96 & 5.632940 &       NA & 14.805198 & 64.12915 & 5.112254 & 1\\\\\n",
       "\\end{tabular}\n"
      ],
      "text/markdown": [
       "\n",
       "A tibble: 2457 × 9\n",
       "\n",
       "| ph &lt;dbl&gt; | Hardness &lt;dbl&gt; | Solids &lt;dbl&gt; | Chloramines &lt;dbl&gt; | Sulfate &lt;dbl&gt; | Organic_carbon &lt;dbl&gt; | Trihalomethanes &lt;dbl&gt; | Turbidity &lt;dbl&gt; | Potability &lt;fct&gt; |\n",
       "|---|---|---|---|---|---|---|---|---|\n",
       "|       NA | 223.3767 | 20992.28 | 7.760408 | 340.3658 | 18.08538 | 61.01646 | 4.647782 | 0 |\n",
       "| 7.449660 | 193.0421 | 32251.36 | 6.086599 | 337.1350 | 18.06030 | 57.40134 | 4.370404 | 1 |\n",
       "| 4.581969 | 186.0979 | 33897.07 | 6.358402 | 316.5528 | 19.69985 | 62.32330 | 4.500208 | 0 |\n",
       "| ⋮ | ⋮ | ⋮ | ⋮ | ⋮ | ⋮ | ⋮ | ⋮ | ⋮ |\n",
       "| 5.117390 | 225.6574 | 30914.11 | 6.207729 | 371.6494 |  8.073421 | 77.38814 | 3.937188 | 1 |\n",
       "|       NA | 159.3994 | 61227.20 | 3.713594 | 312.9763 | 17.246698 | 82.19723 | 3.860807 | 0 |\n",
       "| 6.729191 | 178.4936 | 31991.96 | 5.632940 |       NA | 14.805198 | 64.12915 | 5.112254 | 1 |\n",
       "\n"
      ],
      "text/plain": [
       "     ph       Hardness Solids   Chloramines Sulfate  Organic_carbon\n",
       "1          NA 223.3767 20992.28 7.760408    340.3658 18.08538      \n",
       "2    7.449660 193.0421 32251.36 6.086599    337.1350 18.06030      \n",
       "3    4.581969 186.0979 33897.07 6.358402    316.5528 19.69985      \n",
       "⋮    ⋮        ⋮        ⋮        ⋮           ⋮        ⋮             \n",
       "2455 5.117390 225.6574 30914.11 6.207729    371.6494  8.073421     \n",
       "2456       NA 159.3994 61227.20 3.713594    312.9763 17.246698     \n",
       "2457 6.729191 178.4936 31991.96 5.632940          NA 14.805198     \n",
       "     Trihalomethanes Turbidity Potability\n",
       "1    61.01646        4.647782  0         \n",
       "2    57.40134        4.370404  1         \n",
       "3    62.32330        4.500208  0         \n",
       "⋮    ⋮               ⋮         ⋮         \n",
       "2455 77.38814        3.937188  1         \n",
       "2456 82.19723        3.860807  0         \n",
       "2457 64.12915        5.112254  1         "
      ]
     },
     "metadata": {},
     "output_type": "display_data"
    }
   ],
   "source": [
    "#splitting the data into testing and training sets\n",
    "water_split <- initial_split(water_selected, prop = 0.75)\n",
    "water_train <- training(water_split)   \n",
    "water_test <- testing(water_split)\n",
    "water_train"
   ]
  },
  {
   "cell_type": "markdown",
   "id": "56336e77-49e7-4028-9def-02a2d630c677",
   "metadata": {},
   "source": [
    "**Summary Tables**"
   ]
  },
  {
   "cell_type": "code",
   "execution_count": 4,
   "id": "facac880-c906-43b7-a812-12c56606a02f",
   "metadata": {
    "tags": []
   },
   "outputs": [
    {
     "data": {
      "text/html": [
       "<table class=\"dataframe\">\n",
       "<caption>A tibble: 2 × 2</caption>\n",
       "<thead>\n",
       "\t<tr><th scope=col>Potability</th><th scope=col>count</th></tr>\n",
       "\t<tr><th scope=col>&lt;fct&gt;</th><th scope=col>&lt;int&gt;</th></tr>\n",
       "</thead>\n",
       "<tbody>\n",
       "\t<tr><td>0</td><td>1503</td></tr>\n",
       "\t<tr><td>1</td><td> 954</td></tr>\n",
       "</tbody>\n",
       "</table>\n"
      ],
      "text/latex": [
       "A tibble: 2 × 2\n",
       "\\begin{tabular}{ll}\n",
       " Potability & count\\\\\n",
       " <fct> & <int>\\\\\n",
       "\\hline\n",
       "\t 0 & 1503\\\\\n",
       "\t 1 &  954\\\\\n",
       "\\end{tabular}\n"
      ],
      "text/markdown": [
       "\n",
       "A tibble: 2 × 2\n",
       "\n",
       "| Potability &lt;fct&gt; | count &lt;int&gt; |\n",
       "|---|---|\n",
       "| 0 | 1503 |\n",
       "| 1 |  954 |\n",
       "\n"
      ],
      "text/plain": [
       "  Potability count\n",
       "1 0          1503 \n",
       "2 1           954 "
      ]
     },
     "metadata": {},
     "output_type": "display_data"
    },
    {
     "name": "stdout",
     "output_type": "stream",
     "text": [
      "[1] \"number of rows removed were\"\n"
     ]
    },
    {
     "data": {
      "text/html": [
       "0"
      ],
      "text/latex": [
       "0"
      ],
      "text/markdown": [
       "0"
      ],
      "text/plain": [
       "[1] 0"
      ]
     },
     "metadata": {},
     "output_type": "display_data"
    }
   ],
   "source": [
    "#counting the number of observations that are potable and not potable\n",
    "\n",
    "water_count<-water_train|>\n",
    "    group_by(Potability)|>\n",
    "    summarize(count=n())\n",
    "water_count\n",
    "\n",
    "#removing missing values \n",
    "initial_rows<-nrow(water)\n",
    "\n",
    "life_expectancy_data<-na.omit(water)\n",
    "\n",
    "final_rows<-nrow(water)\n",
    "\n",
    "removed_rows <- initial_rows - final_rows\n",
    "\n",
    "print(\"number of rows removed were\")\n",
    "removed_rows \n"
   ]
  },
  {
   "cell_type": "markdown",
   "id": "e6a0307a-4c25-4821-987c-0ed9b922963e",
   "metadata": {},
   "source": [
    "**Methodology**\n",
    "\n",
    "The problem that we have selected is a classification problem, i.e. classifying a sample of water into potable or non-potable. We will be using the K nearest neighbour classification do to so. Out of the 8 variables in our dataset, we will be using all of them as predictors besides conductivity. First, we shall prepare the data by tidying it and splitting it into training an testing sets. Then we will use cross-validation to pick the best “k” value for our dataset and then train the model using the training set, and then apply it to the testing set. This will ensure that we produce a classifier with the highest accuracy possible. Though, it would be ideal to have high precision and high recall, we shall be aiming to have a high recall with not-potable being the “positive” class. \n"
   ]
  },
  {
   "cell_type": "markdown",
   "id": "e469881c-aa9b-43b4-a60c-49cf6d0b50da",
   "metadata": {},
   "source": [
    "The best way in this case to visualize our result is to create several scatterplots using pairs of variables, this will also highlight any hidden co-relations between them. We will be experimenting with our visuals to avoid overplotting since there are over 900 observations in our data set. This will be done either by reducing the size or the transparency of the points.\n",
    "\n"
   ]
  },
  {
   "cell_type": "markdown",
   "id": "c71e5fa0-c479-4950-97f9-f26f634eed45",
   "metadata": {},
   "source": [
    "**Outcomes and Significance**\n",
    "\n",
    "We expect to find the ranges of each variable which are required for the water to be portable. Based on the strict maintenance of quality-determining variables needed for clean water, we expect a minimal range of variance between portable classified samples. Meanwhile, there is predicted to be a greater spread of data that falls in the non-portable range. \n",
    "The classification of water potability (water that is suitable for human consumption) is essential for evaluating water supplies around the world. The data model can be used to identify non-portable classified samples which can be further analyzed based on deviation from different portable water variables. This serves as a gateway to the analysis of water samples in specific industries. For instance, water samples with a higher turbidity than that of portable samples ( which indicate higher levels of microorganisms such as bacteria and parasites)  can be sent over to microbiological labs for further analysis. \n",
    "This leads to a plethora of other questions that can be explored, such as specific wastewater treatments based on the type of contamination (ie. sulfate, pH levels, etc.). Our findings could be further analyzed using calculation based questions such as the average amount of chloramines used in potable water. \n"
   ]
  },
  {
   "cell_type": "code",
   "execution_count": null,
   "id": "48113d20-b4ed-48de-aa62-582e88464cae",
   "metadata": {},
   "outputs": [],
   "source": []
  }
 ],
 "metadata": {
  "kernelspec": {
   "display_name": "R",
   "language": "R",
   "name": "ir"
  },
  "language_info": {
   "codemirror_mode": "r",
   "file_extension": ".r",
   "mimetype": "text/x-r-source",
   "name": "R",
   "pygments_lexer": "r",
   "version": "4.2.2"
  }
 },
 "nbformat": 4,
 "nbformat_minor": 5
}
