{
 "cells": [
  {
   "cell_type": "markdown",
   "id": "83ef82a7-6936-45e3-8ab6-11be76153c8c",
   "metadata": {},
   "source": [
    "# Determining Water Potability\n",
    "\n",
    "**Introduction**\n",
    "\n",
    "Water potability is critical for supporting populations, various industries and agricultural activities that rely on clean water for survival. Clean and drinkable water can be determined by careful analysis of certain characteristics of a sample. Using classification we hope to train a data set to be able to classify water as safe or not based on its characteristics. The question we will be asking is: Is this water sample potable based on the different levels and characteristics of it?\n",
    "The data set we will be using is ‘Water Quality and Potability’. Each observation has a pH value, total solids dissolved, chloramines count, sulfate count, conductivity, organic carbon level, trihalomethanes, turbidity and potability. With these values we hope to train a classification system that can provide accurate results on potability. \n"
   ]
  },
  {
   "cell_type": "markdown",
   "id": "f582e153-e1cb-4761-bc37-d4dce4d9274c",
   "metadata": {
    "tags": []
   },
   "source": [
    "**Reading in the Data**"
   ]
  },
  {
   "cell_type": "code",
   "execution_count": 1,
   "id": "362a73b4-a73f-4109-b0bd-181ab2ed87dd",
   "metadata": {
    "tags": []
   },
   "outputs": [
    {
     "name": "stderr",
     "output_type": "stream",
     "text": [
      "── \u001b[1mAttaching packages\u001b[22m ─────────────────────────────────────── tidyverse 1.3.2 ──\n",
      "\u001b[32m✔\u001b[39m \u001b[34mggplot2\u001b[39m 3.4.2     \u001b[32m✔\u001b[39m \u001b[34mpurrr  \u001b[39m 1.0.1\n",
      "\u001b[32m✔\u001b[39m \u001b[34mtibble \u001b[39m 3.2.1     \u001b[32m✔\u001b[39m \u001b[34mdplyr  \u001b[39m 1.1.1\n",
      "\u001b[32m✔\u001b[39m \u001b[34mtidyr  \u001b[39m 1.3.0     \u001b[32m✔\u001b[39m \u001b[34mstringr\u001b[39m 1.5.0\n",
      "\u001b[32m✔\u001b[39m \u001b[34mreadr  \u001b[39m 2.1.3     \u001b[32m✔\u001b[39m \u001b[34mforcats\u001b[39m 0.5.2\n",
      "── \u001b[1mConflicts\u001b[22m ────────────────────────────────────────── tidyverse_conflicts() ──\n",
      "\u001b[31m✖\u001b[39m \u001b[34mdplyr\u001b[39m::\u001b[32mfilter()\u001b[39m masks \u001b[34mstats\u001b[39m::filter()\n",
      "\u001b[31m✖\u001b[39m \u001b[34mdplyr\u001b[39m::\u001b[32mlag()\u001b[39m    masks \u001b[34mstats\u001b[39m::lag()\n",
      "── \u001b[1mAttaching packages\u001b[22m ────────────────────────────────────── tidymodels 1.0.0 ──\n",
      "\n",
      "\u001b[32m✔\u001b[39m \u001b[34mbroom       \u001b[39m 1.0.2     \u001b[32m✔\u001b[39m \u001b[34mrsample     \u001b[39m 1.1.1\n",
      "\u001b[32m✔\u001b[39m \u001b[34mdials       \u001b[39m 1.1.0     \u001b[32m✔\u001b[39m \u001b[34mtune        \u001b[39m 1.0.1\n",
      "\u001b[32m✔\u001b[39m \u001b[34minfer       \u001b[39m 1.0.4     \u001b[32m✔\u001b[39m \u001b[34mworkflows   \u001b[39m 1.1.2\n",
      "\u001b[32m✔\u001b[39m \u001b[34mmodeldata   \u001b[39m 1.0.1     \u001b[32m✔\u001b[39m \u001b[34mworkflowsets\u001b[39m 1.0.0\n",
      "\u001b[32m✔\u001b[39m \u001b[34mparsnip     \u001b[39m 1.0.3     \u001b[32m✔\u001b[39m \u001b[34myardstick   \u001b[39m 1.1.0\n",
      "\u001b[32m✔\u001b[39m \u001b[34mrecipes     \u001b[39m 1.0.4     \n",
      "\n",
      "── \u001b[1mConflicts\u001b[22m ───────────────────────────────────────── tidymodels_conflicts() ──\n",
      "\u001b[31m✖\u001b[39m \u001b[34mscales\u001b[39m::\u001b[32mdiscard()\u001b[39m masks \u001b[34mpurrr\u001b[39m::discard()\n",
      "\u001b[31m✖\u001b[39m \u001b[34mdplyr\u001b[39m::\u001b[32mfilter()\u001b[39m   masks \u001b[34mstats\u001b[39m::filter()\n",
      "\u001b[31m✖\u001b[39m \u001b[34mrecipes\u001b[39m::\u001b[32mfixed()\u001b[39m  masks \u001b[34mstringr\u001b[39m::fixed()\n",
      "\u001b[31m✖\u001b[39m \u001b[34mdplyr\u001b[39m::\u001b[32mlag()\u001b[39m      masks \u001b[34mstats\u001b[39m::lag()\n",
      "\u001b[31m✖\u001b[39m \u001b[34myardstick\u001b[39m::\u001b[32mspec()\u001b[39m masks \u001b[34mreadr\u001b[39m::spec()\n",
      "\u001b[31m✖\u001b[39m \u001b[34mrecipes\u001b[39m::\u001b[32mstep()\u001b[39m   masks \u001b[34mstats\u001b[39m::step()\n",
      "\u001b[34m•\u001b[39m Learn how to get started at \u001b[32mhttps://www.tidymodels.org/start/\u001b[39m\n",
      "\n",
      "\u001b[1mRows: \u001b[22m\u001b[34m3276\u001b[39m \u001b[1mColumns: \u001b[22m\u001b[34m10\u001b[39m\n",
      "\u001b[36m──\u001b[39m \u001b[1mColumn specification\u001b[22m \u001b[36m────────────────────────────────────────────────────────\u001b[39m\n",
      "\u001b[1mDelimiter:\u001b[22m \",\"\n",
      "\u001b[32mdbl\u001b[39m (10): ph, Hardness, Solids, Chloramines, Sulfate, Conductivity, Organic_...\n",
      "\n",
      "\u001b[36mℹ\u001b[39m Use `spec()` to retrieve the full column specification for this data.\n",
      "\u001b[36mℹ\u001b[39m Specify the column types or set `show_col_types = FALSE` to quiet this message.\n"
     ]
    }
   ],
   "source": [
    "library(tidyverse)\n",
    "library(repr)\n",
    "library(tidymodels)\n",
    "options(repr.matrix.max.rows = 6)\n",
    "set.seed(1234)\n",
    "\n",
    "#reading the data set from the web \n",
    "url <- \"https://raw.githubusercontent.com/nori-2004/data-science-group-project/main/water_potability.csv\"\n",
    "water <- read_csv(url)"
   ]
  },
  {
   "cell_type": "markdown",
   "id": "b4ed68a9-c9b8-4644-9bca-26d84aab623c",
   "metadata": {
    "tags": []
   },
   "source": [
    "**Cleaning and Wrangling**"
   ]
  },
  {
   "cell_type": "code",
   "execution_count": 2,
   "id": "30a571e1-9045-4886-ab2d-272424f9c554",
   "metadata": {
    "tags": []
   },
   "outputs": [
    {
     "data": {
      "text/html": [
       "<table class=\"dataframe\">\n",
       "<caption>A tibble: 2011 × 9</caption>\n",
       "<thead>\n",
       "\t<tr><th scope=col>ph</th><th scope=col>Hardness</th><th scope=col>Solids</th><th scope=col>Chloramines</th><th scope=col>Sulfate</th><th scope=col>Organic_carbon</th><th scope=col>Trihalomethanes</th><th scope=col>Turbidity</th><th scope=col>Potability</th></tr>\n",
       "\t<tr><th scope=col>&lt;dbl&gt;</th><th scope=col>&lt;dbl&gt;</th><th scope=col>&lt;dbl&gt;</th><th scope=col>&lt;dbl&gt;</th><th scope=col>&lt;dbl&gt;</th><th scope=col>&lt;dbl&gt;</th><th scope=col>&lt;dbl&gt;</th><th scope=col>&lt;dbl&gt;</th><th scope=col>&lt;fct&gt;</th></tr>\n",
       "</thead>\n",
       "<tbody>\n",
       "\t<tr><td>8.316766</td><td>214.3734</td><td>22018.42</td><td>8.059332</td><td>356.8861</td><td>18.436524</td><td>100.34167</td><td>4.628771</td><td>0</td></tr>\n",
       "\t<tr><td>9.092223</td><td>181.1015</td><td>17978.99</td><td>6.546600</td><td>310.1357</td><td>11.558279</td><td> 31.99799</td><td>4.075075</td><td>0</td></tr>\n",
       "\t<tr><td>5.584087</td><td>188.3133</td><td>28748.69</td><td>7.544869</td><td>326.6784</td><td> 8.399735</td><td> 54.91786</td><td>2.559708</td><td>0</td></tr>\n",
       "\t<tr><td>⋮</td><td>⋮</td><td>⋮</td><td>⋮</td><td>⋮</td><td>⋮</td><td>⋮</td><td>⋮</td><td>⋮</td></tr>\n",
       "\t<tr><td>11.491011</td><td> 94.81255</td><td>37188.83</td><td>9.263166</td><td>258.9306</td><td>16.17276</td><td>41.55850</td><td>4.369264</td><td>1</td></tr>\n",
       "\t<tr><td> 6.069616</td><td>186.65904</td><td>26138.78</td><td>7.747547</td><td>345.7003</td><td>12.06762</td><td>60.41992</td><td>3.669712</td><td>1</td></tr>\n",
       "\t<tr><td> 4.668102</td><td>193.68174</td><td>47580.99</td><td>7.166639</td><td>359.9486</td><td>13.89442</td><td>66.68769</td><td>4.435821</td><td>1</td></tr>\n",
       "</tbody>\n",
       "</table>\n"
      ],
      "text/latex": [
       "A tibble: 2011 × 9\n",
       "\\begin{tabular}{lllllllll}\n",
       " ph & Hardness & Solids & Chloramines & Sulfate & Organic\\_carbon & Trihalomethanes & Turbidity & Potability\\\\\n",
       " <dbl> & <dbl> & <dbl> & <dbl> & <dbl> & <dbl> & <dbl> & <dbl> & <fct>\\\\\n",
       "\\hline\n",
       "\t 8.316766 & 214.3734 & 22018.42 & 8.059332 & 356.8861 & 18.436524 & 100.34167 & 4.628771 & 0\\\\\n",
       "\t 9.092223 & 181.1015 & 17978.99 & 6.546600 & 310.1357 & 11.558279 &  31.99799 & 4.075075 & 0\\\\\n",
       "\t 5.584087 & 188.3133 & 28748.69 & 7.544869 & 326.6784 &  8.399735 &  54.91786 & 2.559708 & 0\\\\\n",
       "\t ⋮ & ⋮ & ⋮ & ⋮ & ⋮ & ⋮ & ⋮ & ⋮ & ⋮\\\\\n",
       "\t 11.491011 &  94.81255 & 37188.83 & 9.263166 & 258.9306 & 16.17276 & 41.55850 & 4.369264 & 1\\\\\n",
       "\t  6.069616 & 186.65904 & 26138.78 & 7.747547 & 345.7003 & 12.06762 & 60.41992 & 3.669712 & 1\\\\\n",
       "\t  4.668102 & 193.68174 & 47580.99 & 7.166639 & 359.9486 & 13.89442 & 66.68769 & 4.435821 & 1\\\\\n",
       "\\end{tabular}\n"
      ],
      "text/markdown": [
       "\n",
       "A tibble: 2011 × 9\n",
       "\n",
       "| ph &lt;dbl&gt; | Hardness &lt;dbl&gt; | Solids &lt;dbl&gt; | Chloramines &lt;dbl&gt; | Sulfate &lt;dbl&gt; | Organic_carbon &lt;dbl&gt; | Trihalomethanes &lt;dbl&gt; | Turbidity &lt;dbl&gt; | Potability &lt;fct&gt; |\n",
       "|---|---|---|---|---|---|---|---|---|\n",
       "| 8.316766 | 214.3734 | 22018.42 | 8.059332 | 356.8861 | 18.436524 | 100.34167 | 4.628771 | 0 |\n",
       "| 9.092223 | 181.1015 | 17978.99 | 6.546600 | 310.1357 | 11.558279 |  31.99799 | 4.075075 | 0 |\n",
       "| 5.584087 | 188.3133 | 28748.69 | 7.544869 | 326.6784 |  8.399735 |  54.91786 | 2.559708 | 0 |\n",
       "| ⋮ | ⋮ | ⋮ | ⋮ | ⋮ | ⋮ | ⋮ | ⋮ | ⋮ |\n",
       "| 11.491011 |  94.81255 | 37188.83 | 9.263166 | 258.9306 | 16.17276 | 41.55850 | 4.369264 | 1 |\n",
       "|  6.069616 | 186.65904 | 26138.78 | 7.747547 | 345.7003 | 12.06762 | 60.41992 | 3.669712 | 1 |\n",
       "|  4.668102 | 193.68174 | 47580.99 | 7.166639 | 359.9486 | 13.89442 | 66.68769 | 4.435821 | 1 |\n",
       "\n"
      ],
      "text/plain": [
       "     ph        Hardness  Solids   Chloramines Sulfate  Organic_carbon\n",
       "1    8.316766  214.3734  22018.42 8.059332    356.8861 18.436524     \n",
       "2    9.092223  181.1015  17978.99 6.546600    310.1357 11.558279     \n",
       "3    5.584087  188.3133  28748.69 7.544869    326.6784  8.399735     \n",
       "⋮    ⋮         ⋮         ⋮        ⋮           ⋮        ⋮             \n",
       "2009 11.491011  94.81255 37188.83 9.263166    258.9306 16.17276      \n",
       "2010  6.069616 186.65904 26138.78 7.747547    345.7003 12.06762      \n",
       "2011  4.668102 193.68174 47580.99 7.166639    359.9486 13.89442      \n",
       "     Trihalomethanes Turbidity Potability\n",
       "1    100.34167       4.628771  0         \n",
       "2     31.99799       4.075075  0         \n",
       "3     54.91786       2.559708  0         \n",
       "⋮    ⋮               ⋮         ⋮         \n",
       "2009 41.55850        4.369264  1         \n",
       "2010 60.41992        3.669712  1         \n",
       "2011 66.68769        4.435821  1         "
      ]
     },
     "metadata": {},
     "output_type": "display_data"
    }
   ],
   "source": [
    "#changing the potable variable to a factor datatype\n",
    "water<-water |> \n",
    "    mutate(Potability=as_factor(Potability))\n",
    "\n",
    "#removing missing values \n",
    "initial_rows<-nrow(water)\n",
    "\n",
    "water<-na.omit(water)\n",
    "\n",
    "final_rows<-nrow(water)\n",
    "\n",
    "removed_rows <- initial_rows - final_rows\n",
    "\n",
    "#cleaning the data by selecting the columns we want to use\n",
    "water_selected <- select(water, - Conductivity)\n",
    "\n",
    "water_selected"
   ]
  },
  {
   "cell_type": "markdown",
   "id": "8398065a-b8e5-423b-b393-090c8d9b55fa",
   "metadata": {},
   "source": [
    "\n"
   ]
  },
  {
   "cell_type": "code",
   "execution_count": 3,
   "id": "6b5d0ab0-d780-4821-ac41-0157de5b0aa7",
   "metadata": {
    "tags": []
   },
   "outputs": [
    {
     "data": {
      "text/html": [
       "<table class=\"dataframe\">\n",
       "<caption>A tibble: 1508 × 9</caption>\n",
       "<thead>\n",
       "\t<tr><th scope=col>ph</th><th scope=col>Hardness</th><th scope=col>Solids</th><th scope=col>Chloramines</th><th scope=col>Sulfate</th><th scope=col>Organic_carbon</th><th scope=col>Trihalomethanes</th><th scope=col>Turbidity</th><th scope=col>Potability</th></tr>\n",
       "\t<tr><th scope=col>&lt;dbl&gt;</th><th scope=col>&lt;dbl&gt;</th><th scope=col>&lt;dbl&gt;</th><th scope=col>&lt;dbl&gt;</th><th scope=col>&lt;dbl&gt;</th><th scope=col>&lt;dbl&gt;</th><th scope=col>&lt;dbl&gt;</th><th scope=col>&lt;dbl&gt;</th><th scope=col>&lt;fct&gt;</th></tr>\n",
       "</thead>\n",
       "<tbody>\n",
       "\t<tr><td>8.978998</td><td>213.0918</td><td>19030.72</td><td>5.291516</td><td>316.9403</td><td>15.89108</td><td>66.08704</td><td>4.656317</td><td>0</td></tr>\n",
       "\t<tr><td>6.174884</td><td>193.0280</td><td>23006.24</td><td>8.098312</td><td>340.2534</td><td>13.47516</td><td>78.32523</td><td>3.623298</td><td>0</td></tr>\n",
       "\t<tr><td>7.260904</td><td>189.0780</td><td>21391.16</td><td>6.576866</td><td>356.6222</td><td>14.39161</td><td>81.08246</td><td>4.383823</td><td>0</td></tr>\n",
       "\t<tr><td>⋮</td><td>⋮</td><td>⋮</td><td>⋮</td><td>⋮</td><td>⋮</td><td>⋮</td><td>⋮</td><td>⋮</td></tr>\n",
       "\t<tr><td>5.363363</td><td>179.9114</td><td>27045.93</td><td>6.520855</td><td>311.4674</td><td> 9.704704</td><td>79.48480</td><td>3.871372</td><td>0</td></tr>\n",
       "\t<tr><td>5.057736</td><td>137.6893</td><td>11229.14</td><td>6.411410</td><td>481.0306</td><td>15.390304</td><td>43.88251</td><td>3.163936</td><td>1</td></tr>\n",
       "\t<tr><td>5.890870</td><td>184.0558</td><td>34920.04</td><td>7.401367</td><td>343.7916</td><td>14.728773</td><td>62.60168</td><td>4.370777</td><td>0</td></tr>\n",
       "</tbody>\n",
       "</table>\n"
      ],
      "text/latex": [
       "A tibble: 1508 × 9\n",
       "\\begin{tabular}{lllllllll}\n",
       " ph & Hardness & Solids & Chloramines & Sulfate & Organic\\_carbon & Trihalomethanes & Turbidity & Potability\\\\\n",
       " <dbl> & <dbl> & <dbl> & <dbl> & <dbl> & <dbl> & <dbl> & <dbl> & <fct>\\\\\n",
       "\\hline\n",
       "\t 8.978998 & 213.0918 & 19030.72 & 5.291516 & 316.9403 & 15.89108 & 66.08704 & 4.656317 & 0\\\\\n",
       "\t 6.174884 & 193.0280 & 23006.24 & 8.098312 & 340.2534 & 13.47516 & 78.32523 & 3.623298 & 0\\\\\n",
       "\t 7.260904 & 189.0780 & 21391.16 & 6.576866 & 356.6222 & 14.39161 & 81.08246 & 4.383823 & 0\\\\\n",
       "\t ⋮ & ⋮ & ⋮ & ⋮ & ⋮ & ⋮ & ⋮ & ⋮ & ⋮\\\\\n",
       "\t 5.363363 & 179.9114 & 27045.93 & 6.520855 & 311.4674 &  9.704704 & 79.48480 & 3.871372 & 0\\\\\n",
       "\t 5.057736 & 137.6893 & 11229.14 & 6.411410 & 481.0306 & 15.390304 & 43.88251 & 3.163936 & 1\\\\\n",
       "\t 5.890870 & 184.0558 & 34920.04 & 7.401367 & 343.7916 & 14.728773 & 62.60168 & 4.370777 & 0\\\\\n",
       "\\end{tabular}\n"
      ],
      "text/markdown": [
       "\n",
       "A tibble: 1508 × 9\n",
       "\n",
       "| ph &lt;dbl&gt; | Hardness &lt;dbl&gt; | Solids &lt;dbl&gt; | Chloramines &lt;dbl&gt; | Sulfate &lt;dbl&gt; | Organic_carbon &lt;dbl&gt; | Trihalomethanes &lt;dbl&gt; | Turbidity &lt;dbl&gt; | Potability &lt;fct&gt; |\n",
       "|---|---|---|---|---|---|---|---|---|\n",
       "| 8.978998 | 213.0918 | 19030.72 | 5.291516 | 316.9403 | 15.89108 | 66.08704 | 4.656317 | 0 |\n",
       "| 6.174884 | 193.0280 | 23006.24 | 8.098312 | 340.2534 | 13.47516 | 78.32523 | 3.623298 | 0 |\n",
       "| 7.260904 | 189.0780 | 21391.16 | 6.576866 | 356.6222 | 14.39161 | 81.08246 | 4.383823 | 0 |\n",
       "| ⋮ | ⋮ | ⋮ | ⋮ | ⋮ | ⋮ | ⋮ | ⋮ | ⋮ |\n",
       "| 5.363363 | 179.9114 | 27045.93 | 6.520855 | 311.4674 |  9.704704 | 79.48480 | 3.871372 | 0 |\n",
       "| 5.057736 | 137.6893 | 11229.14 | 6.411410 | 481.0306 | 15.390304 | 43.88251 | 3.163936 | 1 |\n",
       "| 5.890870 | 184.0558 | 34920.04 | 7.401367 | 343.7916 | 14.728773 | 62.60168 | 4.370777 | 0 |\n",
       "\n"
      ],
      "text/plain": [
       "     ph       Hardness Solids   Chloramines Sulfate  Organic_carbon\n",
       "1    8.978998 213.0918 19030.72 5.291516    316.9403 15.89108      \n",
       "2    6.174884 193.0280 23006.24 8.098312    340.2534 13.47516      \n",
       "3    7.260904 189.0780 21391.16 6.576866    356.6222 14.39161      \n",
       "⋮    ⋮        ⋮        ⋮        ⋮           ⋮        ⋮             \n",
       "1506 5.363363 179.9114 27045.93 6.520855    311.4674  9.704704     \n",
       "1507 5.057736 137.6893 11229.14 6.411410    481.0306 15.390304     \n",
       "1508 5.890870 184.0558 34920.04 7.401367    343.7916 14.728773     \n",
       "     Trihalomethanes Turbidity Potability\n",
       "1    66.08704        4.656317  0         \n",
       "2    78.32523        3.623298  0         \n",
       "3    81.08246        4.383823  0         \n",
       "⋮    ⋮               ⋮         ⋮         \n",
       "1506 79.48480        3.871372  0         \n",
       "1507 43.88251        3.163936  1         \n",
       "1508 62.60168        4.370777  0         "
      ]
     },
     "metadata": {},
     "output_type": "display_data"
    }
   ],
   "source": [
    "#splitting the data into testing and training sets\n",
    "water_split <- initial_split(water_selected, prop = 0.75)\n",
    "water_train <- training(water_split)   \n",
    "water_test <- testing(water_split)\n",
    "water_train"
   ]
  },
  {
   "cell_type": "markdown",
   "id": "56336e77-49e7-4028-9def-02a2d630c677",
   "metadata": {},
   "source": [
    "**Summary Tables**"
   ]
  },
  {
   "cell_type": "code",
   "execution_count": 4,
   "id": "facac880-c906-43b7-a812-12c56606a02f",
   "metadata": {
    "tags": []
   },
   "outputs": [
    {
     "data": {
      "text/html": [
       "<table class=\"dataframe\">\n",
       "<caption>A tibble: 2 × 2</caption>\n",
       "<thead>\n",
       "\t<tr><th scope=col>Potability</th><th scope=col>count</th></tr>\n",
       "\t<tr><th scope=col>&lt;fct&gt;</th><th scope=col>&lt;int&gt;</th></tr>\n",
       "</thead>\n",
       "<tbody>\n",
       "\t<tr><td>0</td><td>892</td></tr>\n",
       "\t<tr><td>1</td><td>616</td></tr>\n",
       "</tbody>\n",
       "</table>\n"
      ],
      "text/latex": [
       "A tibble: 2 × 2\n",
       "\\begin{tabular}{ll}\n",
       " Potability & count\\\\\n",
       " <fct> & <int>\\\\\n",
       "\\hline\n",
       "\t 0 & 892\\\\\n",
       "\t 1 & 616\\\\\n",
       "\\end{tabular}\n"
      ],
      "text/markdown": [
       "\n",
       "A tibble: 2 × 2\n",
       "\n",
       "| Potability &lt;fct&gt; | count &lt;int&gt; |\n",
       "|---|---|\n",
       "| 0 | 892 |\n",
       "| 1 | 616 |\n",
       "\n"
      ],
      "text/plain": [
       "  Potability count\n",
       "1 0          892  \n",
       "2 1          616  "
      ]
     },
     "metadata": {},
     "output_type": "display_data"
    },
    {
     "name": "stdout",
     "output_type": "stream",
     "text": [
      "[1] \"number of rows removed were\"\n"
     ]
    },
    {
     "data": {
      "text/html": [
       "1265"
      ],
      "text/latex": [
       "1265"
      ],
      "text/markdown": [
       "1265"
      ],
      "text/plain": [
       "[1] 1265"
      ]
     },
     "metadata": {},
     "output_type": "display_data"
    }
   ],
   "source": [
    "#counting the number of observations that are potable and not potable\n",
    "\n",
    "water_count<-water_train|>\n",
    "    group_by(Potability)|>\n",
    "    summarize(count=n())\n",
    "water_count\n",
    "\n",
    "print(\"number of rows removed were\")\n",
    "removed_rows "
   ]
  },
  {
   "cell_type": "markdown",
   "id": "e6a0307a-4c25-4821-987c-0ed9b922963e",
   "metadata": {},
   "source": [
    "**Methodology**\n",
    "\n",
    "The problem that we have selected is a classification problem, i.e. classifying a sample of water into potable or non-potable. We will be using the K nearest neighbour classification do to so. Out of the 8 variables in our dataset, we will be using all of them as predictors besides conductivity. First, we shall prepare the data by tidying it and splitting it into training an testing sets. Then we will use cross-validation to pick the best “k” value for our dataset and then train the model using the training set, and then apply it to the testing set. This will ensure that we produce a classifier with the highest accuracy possible. Though, it would be ideal to have high precision and high recall, we shall be aiming to have a high recall with not-potable being the “positive” class. \n"
   ]
  },
  {
   "cell_type": "markdown",
   "id": "e469881c-aa9b-43b4-a60c-49cf6d0b50da",
   "metadata": {},
   "source": [
    "The best way in this case to visualize our result is to create several scatterplots using pairs of variables, this will also highlight any hidden co-relations between them. We will be experimenting with our visuals to avoid overplotting since there are over 900 observations in our data set. This will be done either by reducing the size or the transparency of the points.\n",
    "\n"
   ]
  },
  {
   "cell_type": "markdown",
   "id": "c71e5fa0-c479-4950-97f9-f26f634eed45",
   "metadata": {},
   "source": [
    "**Outcomes and Significance**\n",
    "\n",
    "We expect to find the ranges of each variable which are required for the water to be portable. Based on the strict maintenance of quality-determining variables needed for clean water, we expect a minimal range of variance between portable classified samples. Meanwhile, there is predicted to be a greater spread of data that falls in the non-portable range. \n",
    "The classification of water potability (water that is suitable for human consumption) is essential for evaluating water supplies around the world. The data model can be used to identify non-portable classified samples which can be further analyzed based on deviation from different portable water variables. This serves as a gateway to the analysis of water samples in specific industries. For instance, water samples with a higher turbidity than that of portable samples ( which indicate higher levels of microorganisms such as bacteria and parasites)  can be sent over to microbiological labs for further analysis. \n",
    "This leads to a plethora of other questions that can be explored, such as specific wastewater treatments based on the type of contamination (ie. sulfate, pH levels, etc.). Our findings could be further analyzed using calculation based questions such as the average amount of chloramines used in potable water. \n"
   ]
  },
  {
   "cell_type": "code",
   "execution_count": null,
   "id": "48113d20-b4ed-48de-aa62-582e88464cae",
   "metadata": {},
   "outputs": [],
   "source": []
  }
 ],
 "metadata": {
  "kernelspec": {
   "display_name": "R",
   "language": "R",
   "name": "ir"
  },
  "language_info": {
   "codemirror_mode": "r",
   "file_extension": ".r",
   "mimetype": "text/x-r-source",
   "name": "R",
   "pygments_lexer": "r",
   "version": "4.2.2"
  }
 },
 "nbformat": 4,
 "nbformat_minor": 5
}
